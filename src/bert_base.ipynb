{
 "cells": [
  {
   "cell_type": "code",
   "execution_count": 1,
   "metadata": {
    "colab": {
     "base_uri": "https://localhost:8080/"
    },
    "executionInfo": {
     "elapsed": 20184,
     "status": "ok",
     "timestamp": 1650855933006,
     "user": {
      "displayName": "小·白菜",
      "userId": "11363145687516653892"
     },
     "user_tz": -480
    },
    "id": "r6g7LA4GkETt",
    "outputId": "3f80932e-1771-4882-e06a-86bc9437261b"
   },
   "outputs": [
    {
     "name": "stdout",
     "output_type": "stream",
     "text": [
      "Mounted at /content/drive\n"
     ]
    }
   ],
   "source": [
    "from google.colab import drive\n",
    "drive.mount('/content/drive')"
   ]
  },
  {
   "cell_type": "code",
   "execution_count": 2,
   "metadata": {
    "colab": {
     "base_uri": "https://localhost:8080/"
    },
    "executionInfo": {
     "elapsed": 783,
     "status": "ok",
     "timestamp": 1650855933777,
     "user": {
      "displayName": "小·白菜",
      "userId": "11363145687516653892"
     },
     "user_tz": -480
    },
    "id": "8-WqpGQCkDsk",
    "outputId": "5a964cb1-11ac-4bdc-d89b-16eb88ddfeb3"
   },
   "outputs": [
    {
     "name": "stdout",
     "output_type": "stream",
     "text": [
      "Archive:  /content/drive/MyDrive/Partitive-Files.zip\n",
      "   creating: ./Partitive-Files/\n",
      "  inflating: ./__MACOSX/._Partitive-Files  \n",
      "  inflating: ./Partitive-Files/part-training  \n",
      "  inflating: ./__MACOSX/Partitive-Files/._part-training  \n",
      "  inflating: ./Partitive-Files/part-test  \n",
      "  inflating: ./__MACOSX/Partitive-Files/._part-test  \n",
      "  inflating: ./Partitive-Files/README.txt  \n",
      "  inflating: ./__MACOSX/Partitive-Files/._README.txt  \n",
      "  inflating: ./Partitive-Files/part-dev  \n",
      "  inflating: ./__MACOSX/Partitive-Files/._part-dev  \n",
      "  inflating: ./Partitive-Files/%-dev  \n",
      "  inflating: ./__MACOSX/Partitive-Files/._%-dev  \n",
      "  inflating: ./Partitive-Files/%-training  \n",
      "  inflating: ./__MACOSX/Partitive-Files/._%-training  \n",
      "  inflating: ./Partitive-Files/%-test  \n",
      "  inflating: ./__MACOSX/Partitive-Files/._%-test  \n"
     ]
    }
   ],
   "source": [
    "!unzip -d ./ /content/drive/MyDrive/Partitive-Files.zip"
   ]
  },
  {
   "cell_type": "code",
   "execution_count": 3,
   "metadata": {
    "colab": {
     "base_uri": "https://localhost:8080/"
    },
    "executionInfo": {
     "elapsed": 12760,
     "status": "ok",
     "timestamp": 1650855946534,
     "user": {
      "displayName": "小·白菜",
      "userId": "11363145687516653892"
     },
     "user_tz": -480
    },
    "id": "zQHgVsXDkcMU",
    "outputId": "c08a0990-7c6f-4de9-e33e-1348b0eff8eb"
   },
   "outputs": [
    {
     "name": "stdout",
     "output_type": "stream",
     "text": [
      "Collecting transformers\n",
      "  Downloading transformers-4.18.0-py3-none-any.whl (4.0 MB)\n",
      "\u001b[K     |████████████████████████████████| 4.0 MB 5.2 MB/s \n",
      "\u001b[?25hCollecting pyyaml>=5.1\n",
      "  Downloading PyYAML-6.0-cp37-cp37m-manylinux_2_5_x86_64.manylinux1_x86_64.manylinux_2_12_x86_64.manylinux2010_x86_64.whl (596 kB)\n",
      "\u001b[K     |████████████████████████████████| 596 kB 50.7 MB/s \n",
      "\u001b[?25hRequirement already satisfied: filelock in /usr/local/lib/python3.7/dist-packages (from transformers) (3.6.0)\n",
      "Collecting sacremoses\n",
      "  Downloading sacremoses-0.0.49-py3-none-any.whl (895 kB)\n",
      "\u001b[K     |████████████████████████████████| 895 kB 48.3 MB/s \n",
      "\u001b[?25hRequirement already satisfied: numpy>=1.17 in /usr/local/lib/python3.7/dist-packages (from transformers) (1.21.6)\n",
      "Collecting huggingface-hub<1.0,>=0.1.0\n",
      "  Downloading huggingface_hub-0.5.1-py3-none-any.whl (77 kB)\n",
      "\u001b[K     |████████████████████████████████| 77 kB 6.7 MB/s \n",
      "\u001b[?25hRequirement already satisfied: importlib-metadata in /usr/local/lib/python3.7/dist-packages (from transformers) (4.11.3)\n",
      "Requirement already satisfied: regex!=2019.12.17 in /usr/local/lib/python3.7/dist-packages (from transformers) (2019.12.20)\n",
      "Requirement already satisfied: tqdm>=4.27 in /usr/local/lib/python3.7/dist-packages (from transformers) (4.64.0)\n",
      "Collecting tokenizers!=0.11.3,<0.13,>=0.11.1\n",
      "  Downloading tokenizers-0.12.1-cp37-cp37m-manylinux_2_12_x86_64.manylinux2010_x86_64.whl (6.6 MB)\n",
      "\u001b[K     |████████████████████████████████| 6.6 MB 39.1 MB/s \n",
      "\u001b[?25hRequirement already satisfied: requests in /usr/local/lib/python3.7/dist-packages (from transformers) (2.23.0)\n",
      "Requirement already satisfied: packaging>=20.0 in /usr/local/lib/python3.7/dist-packages (from transformers) (21.3)\n",
      "Requirement already satisfied: typing-extensions>=3.7.4.3 in /usr/local/lib/python3.7/dist-packages (from huggingface-hub<1.0,>=0.1.0->transformers) (4.1.1)\n",
      "Requirement already satisfied: pyparsing!=3.0.5,>=2.0.2 in /usr/local/lib/python3.7/dist-packages (from packaging>=20.0->transformers) (3.0.8)\n",
      "Requirement already satisfied: zipp>=0.5 in /usr/local/lib/python3.7/dist-packages (from importlib-metadata->transformers) (3.8.0)\n",
      "Requirement already satisfied: urllib3!=1.25.0,!=1.25.1,<1.26,>=1.21.1 in /usr/local/lib/python3.7/dist-packages (from requests->transformers) (1.24.3)\n",
      "Requirement already satisfied: idna<3,>=2.5 in /usr/local/lib/python3.7/dist-packages (from requests->transformers) (2.10)\n",
      "Requirement already satisfied: certifi>=2017.4.17 in /usr/local/lib/python3.7/dist-packages (from requests->transformers) (2021.10.8)\n",
      "Requirement already satisfied: chardet<4,>=3.0.2 in /usr/local/lib/python3.7/dist-packages (from requests->transformers) (3.0.4)\n",
      "Requirement already satisfied: six in /usr/local/lib/python3.7/dist-packages (from sacremoses->transformers) (1.15.0)\n",
      "Requirement already satisfied: joblib in /usr/local/lib/python3.7/dist-packages (from sacremoses->transformers) (1.1.0)\n",
      "Requirement already satisfied: click in /usr/local/lib/python3.7/dist-packages (from sacremoses->transformers) (7.1.2)\n",
      "Installing collected packages: pyyaml, tokenizers, sacremoses, huggingface-hub, transformers\n",
      "  Attempting uninstall: pyyaml\n",
      "    Found existing installation: PyYAML 3.13\n",
      "    Uninstalling PyYAML-3.13:\n",
      "      Successfully uninstalled PyYAML-3.13\n",
      "Successfully installed huggingface-hub-0.5.1 pyyaml-6.0 sacremoses-0.0.49 tokenizers-0.12.1 transformers-4.18.0\n"
     ]
    }
   ],
   "source": [
    "!pip install transformers"
   ]
  },
  {
   "cell_type": "code",
   "execution_count": 4,
   "metadata": {
    "executionInfo": {
     "elapsed": 1842,
     "status": "ok",
     "timestamp": 1650855948370,
     "user": {
      "displayName": "小·白菜",
      "userId": "11363145687516653892"
     },
     "user_tz": -480
    },
    "id": "he32063cjq5I"
   },
   "outputs": [],
   "source": [
    "import pandas as pd\n",
    "import nltk\n",
    "import re"
   ]
  },
  {
   "cell_type": "code",
   "execution_count": 5,
   "metadata": {
    "executionInfo": {
     "elapsed": 6,
     "status": "ok",
     "timestamp": 1650855948371,
     "user": {
      "displayName": "小·白菜",
      "userId": "11363145687516653892"
     },
     "user_tz": -480
    },
    "id": "_OU1y9AAjq5N"
   },
   "outputs": [],
   "source": [
    "def construct_dataset(filename):\n",
    "    corpus = []\n",
    "    sentence = []\n",
    "    labels = []\n",
    "    i = 0\n",
    "\n",
    "    with open(filename, 'r') as f:\n",
    "        for line in f.readlines():\n",
    "            line = line.strip('\\n')\n",
    "\n",
    "            if line:\n",
    "                word = line.split()[0]\n",
    "                sentence.append(word)\n",
    "                if line.split()[-1] == 'ARG1':\n",
    "                    labels.append(i) \n",
    "                i += 1\n",
    "            else:\n",
    "                sentence = ' '.join(sentence)\n",
    "                sentence = sentence.replace('COMMA', ',')\n",
    "                sentence = re.sub(r'[^\\w\\s]', '', sentence).strip()\n",
    "                sentence = re.sub(r' +', ' ', sentence)\n",
    "\n",
    "                corpus.append(sentence)\n",
    "                sentence = []\n",
    "                i = 0\n",
    "        return corpus, labels"
   ]
  },
  {
   "cell_type": "code",
   "execution_count": 6,
   "metadata": {
    "executionInfo": {
     "elapsed": 6,
     "status": "ok",
     "timestamp": 1650855948371,
     "user": {
      "displayName": "小·白菜",
      "userId": "11363145687516653892"
     },
     "user_tz": -480
    },
    "id": "XYGfsbj0jq5O"
   },
   "outputs": [],
   "source": [
    "X_train, y_train = construct_dataset('Partitive-Files/%-training')\n",
    "X_dev, y_dev = construct_dataset('Partitive-Files/%-dev')\n",
    "X_test, y_test = construct_dataset('Partitive-Files/%-test')"
   ]
  },
  {
   "cell_type": "code",
   "execution_count": 7,
   "metadata": {
    "colab": {
     "base_uri": "https://localhost:8080/",
     "height": 154,
     "referenced_widgets": [
      "08ad601cb95c416884f3bf03307a07b1",
      "00d85cf5757f4b568f41e44b175efe46",
      "8e778fcc76ea49349492b4331841242a",
      "2d76b2bac684451780920ced49b14189",
      "539cf1f72ca245648e56513b092bd8c2",
      "a481296d293945e0ab300110ed6cf156",
      "9cbb5b0534b841c5aec6070a10d2e71a",
      "70602a3321884feb893536a925dddd4a",
      "0821990f4ed64f6f86dd288eae2523bd",
      "4e362ca371524e42b057d6ef7fe04bb7",
      "32cbf3390a40403cb7c48275037a924f",
      "4da051f26ab34cd9a1f93f522ffb9254",
      "f920b6ff34a14ceb8d68e6ca91be31e7",
      "27e35399d7b140d8a548d0797996ccb0",
      "ff166a8063214ca682cf74d7364ab5b3",
      "8524ce6e2b164a01b8ff8c4c84a09003",
      "55dde3ecd136492188811ca928af2266",
      "a659d1db6b4e4e42ae4428337ac35597",
      "f99aa2a017424def99e20b3702ecb418",
      "db0a6c4c3a934e97b7feedc59c630f04",
      "0423ea615e7d439fa9107e7d92af39d8",
      "ecae3ae847de44b58657a5581bb88277"
     ]
    },
    "executionInfo": {
     "elapsed": 37931,
     "status": "ok",
     "timestamp": 1650855986297,
     "user": {
      "displayName": "小·白菜",
      "userId": "11363145687516653892"
     },
     "user_tz": -480
    },
    "id": "WSSwraQtjq5P",
    "outputId": "36473ce3-b8cb-483d-acb2-a5d5541a7ed3"
   },
   "outputs": [
    {
     "data": {
      "application/vnd.jupyter.widget-view+json": {
       "model_id": "08ad601cb95c416884f3bf03307a07b1",
       "version_major": 2,
       "version_minor": 0
      },
      "text/plain": [
       "Downloading:   0%|          | 0.00/570 [00:00<?, ?B/s]"
      ]
     },
     "metadata": {},
     "output_type": "display_data"
    },
    {
     "data": {
      "application/vnd.jupyter.widget-view+json": {
       "model_id": "4da051f26ab34cd9a1f93f522ffb9254",
       "version_major": 2,
       "version_minor": 0
      },
      "text/plain": [
       "Downloading:   0%|          | 0.00/420M [00:00<?, ?B/s]"
      ]
     },
     "metadata": {},
     "output_type": "display_data"
    },
    {
     "name": "stderr",
     "output_type": "stream",
     "text": [
      "Some weights of the model checkpoint at bert-base-uncased were not used when initializing BertModel: ['cls.predictions.transform.dense.bias', 'cls.predictions.decoder.weight', 'cls.predictions.transform.LayerNorm.bias', 'cls.predictions.transform.dense.weight', 'cls.seq_relationship.weight', 'cls.seq_relationship.bias', 'cls.predictions.bias', 'cls.predictions.transform.LayerNorm.weight']\n",
      "- This IS expected if you are initializing BertModel from the checkpoint of a model trained on another task or with another architecture (e.g. initializing a BertForSequenceClassification model from a BertForPreTraining model).\n",
      "- This IS NOT expected if you are initializing BertModel from the checkpoint of a model that you expect to be exactly identical (initializing a BertForSequenceClassification model from a BertForSequenceClassification model).\n"
     ]
    }
   ],
   "source": [
    "#load pretrained bert base model\n",
    "from transformers import BertModel\n",
    "bert_model = BertModel.from_pretrained('bert-base-uncased')"
   ]
  },
  {
   "cell_type": "code",
   "execution_count": 8,
   "metadata": {
    "colab": {
     "base_uri": "https://localhost:8080/"
    },
    "executionInfo": {
     "elapsed": 625,
     "status": "ok",
     "timestamp": 1650855986911,
     "user": {
      "displayName": "小·白菜",
      "userId": "11363145687516653892"
     },
     "user_tz": -480
    },
    "id": "NfdNYU_Fjq5P",
    "outputId": "690ca675-bb2c-4317-e3c9-9d3f6568c812"
   },
   "outputs": [
    {
     "name": "stdout",
     "output_type": "stream",
     "text": [
      "[nltk_data] Downloading package punkt to /root/nltk_data...\n",
      "[nltk_data]   Unzipping tokenizers/punkt.zip.\n"
     ]
    }
   ],
   "source": [
    "import torch\n",
    "from torch.utils.data import Dataset\n",
    "from transformers import BertTokenizer\n",
    "\n",
    "nltk.download('punkt')\n",
    "\n",
    "class MyDataset(Dataset):\n",
    "\n",
    "    def __init__(self, corpus, labels, maxlen):\n",
    "\n",
    "        self.corpus = corpus\n",
    "        self.labels = labels\n",
    "        \n",
    "        # initialize tokenizer\n",
    "        self.tokenizer = BertTokenizer.from_pretrained('bert-base-uncased')\n",
    "        self.maxlen = maxlen\n",
    "\n",
    "    def __len__(self):\n",
    "        return len(self.corpus)\n",
    "\n",
    "    def __getitem__(self, index):\n",
    "\n",
    "        sentence = self.corpus[index]\n",
    "        label = self.labels[index]\n",
    "\n",
    "        tokens = self.tokenizer.tokenize(sentence)\n",
    "        tokens = ['[CLS]'] + tokens + ['[SEP]']\n",
    "        if len(tokens) < self.maxlen:\n",
    "            tokens = tokens + ['[PAD]' for _ in range(self.maxlen - len(tokens))] \n",
    "        else:\n",
    "            tokens = tokens[:self.maxlen-1] + ['[SEP]']\n",
    "\n",
    "        tokens_ids = self.tokenizer.convert_tokens_to_ids(tokens)\n",
    "        tokens_ids_tensor = torch.tensor(tokens_ids)\n",
    "\n",
    "        attn_mask = (tokens_ids_tensor != 0).long()\n",
    "\n",
    "        return tokens_ids_tensor, attn_mask, label"
   ]
  },
  {
   "cell_type": "code",
   "execution_count": 9,
   "metadata": {
    "colab": {
     "base_uri": "https://localhost:8080/",
     "height": 81,
     "referenced_widgets": [
      "af6791e0f01142a0a76a579429eefa4d",
      "4f255567860443d9962bdadfddfbbcee",
      "20a42de8beae4ca396cda85734c0e6eb",
      "6d1fa6a154d54695a98178e60613161e",
      "0300905f13ac4deb9d3d49909d9e93b6",
      "3c4e16e41c4e48beb277a86e1367fb98",
      "04523501d831472490befa3cf9c98b38",
      "ee51dfb37f4f4e83b29c6d3497080bfa",
      "370afa5d55434923936d002c1979cc7d",
      "a55b2b87180342228f5282b9d603141a",
      "76156bca8d6e48ba8ae3cfe1dfc9eccb",
      "ab828d4e3b274884826491f943389e72",
      "0aaaca3d4a1c476497fa39e5c67816b3",
      "62c5e957b26342649990c7e08510bd29",
      "081ea384637c4b678377ea67a6b10301",
      "28ec2dfffb4046d1a3ca115ba3678a7c",
      "678cfcc2ec1544728932e61676bbdfc7",
      "ba3d54270317478f91da04349b9dca0e",
      "82bda0d6512248db852e2ca1d15ced9e",
      "4a6985c4807f43c78a5a4979a220ab6c",
      "b693a4fb523a4808b6480148399bbcb0",
      "749ae4c9e1674b50b65d89569c9343d6"
     ]
    },
    "executionInfo": {
     "elapsed": 1998,
     "status": "ok",
     "timestamp": 1650855988905,
     "user": {
      "displayName": "小·白菜",
      "userId": "11363145687516653892"
     },
     "user_tz": -480
    },
    "id": "N1I6Nc-ijq5R",
    "outputId": "d36abf56-1f94-4c68-a789-94a32f3132bb"
   },
   "outputs": [
    {
     "data": {
      "application/vnd.jupyter.widget-view+json": {
       "model_id": "af6791e0f01142a0a76a579429eefa4d",
       "version_major": 2,
       "version_minor": 0
      },
      "text/plain": [
       "Downloading:   0%|          | 0.00/226k [00:00<?, ?B/s]"
      ]
     },
     "metadata": {},
     "output_type": "display_data"
    },
    {
     "data": {
      "application/vnd.jupyter.widget-view+json": {
       "model_id": "ab828d4e3b274884826491f943389e72",
       "version_major": 2,
       "version_minor": 0
      },
      "text/plain": [
       "Downloading:   0%|          | 0.00/28.0 [00:00<?, ?B/s]"
      ]
     },
     "metadata": {},
     "output_type": "display_data"
    }
   ],
   "source": [
    "from torch.utils.data import DataLoader\n",
    "\n",
    "train_set = MyDataset(X_train, y_train, maxlen = 365)\n",
    "dev_set = MyDataset(X_dev, y_dev, maxlen = 365)\n",
    "\n",
    "train_loader = DataLoader(train_set, batch_size = 16, num_workers = 2)\n",
    "dev_loader = DataLoader(dev_set, batch_size = 16, num_workers = 2)"
   ]
  },
  {
   "cell_type": "code",
   "execution_count": 10,
   "metadata": {
    "executionInfo": {
     "elapsed": 7,
     "status": "ok",
     "timestamp": 1650855988906,
     "user": {
      "displayName": "小·白菜",
      "userId": "11363145687516653892"
     },
     "user_tz": -480
    },
    "id": "adXD57tFjq5S"
   },
   "outputs": [],
   "source": [
    "import torch\n",
    "import torch.nn as nn\n",
    "from transformers import BertModel\n",
    "\n",
    "class Arg1Classifier(nn.Module):\n",
    "\n",
    "    def __init__(self):\n",
    "        super(Arg1Classifier, self).__init__()\n",
    "        self.bert_layer = BertModel.from_pretrained('bert-base-uncased')\n",
    "        \n",
    "        self.cls_layer = nn.Linear(768, 365)\n",
    "\n",
    "    def forward(self, seq, attn_masks):\n",
    "\n",
    "        outputs = self.bert_layer(seq, attention_mask = attn_masks)\n",
    "        cont_reps = outputs.last_hidden_state\n",
    "\n",
    "        cls_rep = cont_reps[:, 0]\n",
    "\n",
    "        logits = self.cls_layer(cls_rep)\n",
    "\n",
    "        return logits"
   ]
  },
  {
   "cell_type": "code",
   "execution_count": 11,
   "metadata": {
    "colab": {
     "base_uri": "https://localhost:8080/"
    },
    "executionInfo": {
     "elapsed": 17830,
     "status": "ok",
     "timestamp": 1650856006731,
     "user": {
      "displayName": "小·白菜",
      "userId": "11363145687516653892"
     },
     "user_tz": -480
    },
    "id": "z0TLi30Ejq5T",
    "outputId": "0098de84-a9d2-48b2-d125-2a580b32e6b3"
   },
   "outputs": [
    {
     "name": "stdout",
     "output_type": "stream",
     "text": [
      "Creating classifier, initialised with pretrained BERT-BASE parameters...\n"
     ]
    },
    {
     "name": "stderr",
     "output_type": "stream",
     "text": [
      "Some weights of the model checkpoint at bert-base-uncased were not used when initializing BertModel: ['cls.predictions.transform.dense.bias', 'cls.predictions.decoder.weight', 'cls.predictions.transform.LayerNorm.bias', 'cls.predictions.transform.dense.weight', 'cls.seq_relationship.weight', 'cls.seq_relationship.bias', 'cls.predictions.bias', 'cls.predictions.transform.LayerNorm.weight']\n",
      "- This IS expected if you are initializing BertModel from the checkpoint of a model trained on another task or with another architecture (e.g. initializing a BertForSequenceClassification model from a BertForPreTraining model).\n",
      "- This IS NOT expected if you are initializing BertModel from the checkpoint of a model that you expect to be exactly identical (initializing a BertForSequenceClassification model from a BertForSequenceClassification model).\n"
     ]
    },
    {
     "name": "stdout",
     "output_type": "stream",
     "text": [
      "Done creating classifier.\n"
     ]
    }
   ],
   "source": [
    "gpu = 0\n",
    "\n",
    "print(\"Creating classifier, initialised with pretrained BERT-BASE parameters...\")\n",
    "net = Arg1Classifier()\n",
    "net.cuda(gpu)\n",
    "print(\"Done creating classifier.\")"
   ]
  },
  {
   "cell_type": "code",
   "execution_count": 12,
   "metadata": {
    "executionInfo": {
     "elapsed": 13,
     "status": "ok",
     "timestamp": 1650856006731,
     "user": {
      "displayName": "小·白菜",
      "userId": "11363145687516653892"
     },
     "user_tz": -480
    },
    "id": "WaGdiQBHjq5U"
   },
   "outputs": [],
   "source": [
    "import torch.nn as nn\n",
    "import torch.optim as optim\n",
    "\n",
    "criterion = nn.CrossEntropyLoss()\n",
    "opti = optim.Adam(net.parameters(), lr = 2e-5)"
   ]
  },
  {
   "cell_type": "code",
   "execution_count": 13,
   "metadata": {
    "executionInfo": {
     "elapsed": 13,
     "status": "ok",
     "timestamp": 1650856006732,
     "user": {
      "displayName": "小·白菜",
      "userId": "11363145687516653892"
     },
     "user_tz": -480
    },
    "id": "N8F7NCZQjq5U"
   },
   "outputs": [],
   "source": [
    "import time\n",
    "\n",
    "def train(net, criterion, opti, train_loader, dev_loader, max_eps, gpu):\n",
    "\n",
    "    best_acc = 0\n",
    "    st = time.time()\n",
    "    best_net = None\n",
    "    for ep in range(max_eps):\n",
    "        \n",
    "        for it, (seq, attn_masks, labels) in enumerate(train_loader):\n",
    "\n",
    "            opti.zero_grad()  \n",
    "\n",
    "            seq, attn_masks, labels = seq.cuda(gpu), attn_masks.cuda(gpu), labels.cuda(gpu)\n",
    "\n",
    "            logits = net(seq, attn_masks)\n",
    "\n",
    "            loss = criterion(logits.squeeze(-1), labels)\n",
    "\n",
    "            loss.backward()\n",
    "\n",
    "            opti.step()\n",
    "              \n",
    "            if it % 10 == 0:\n",
    "                \n",
    "                acc = get_accuracy_from_logits(logits, labels)\n",
    "                print(\"Iteration {} of epoch {} complete. Loss: {}; Accuracy: {}; Time taken (s): {}\".format(it, ep+1, loss.item(), acc, (time.time()-st)))\n",
    "                st = time.time()\n",
    "\n",
    "        \n",
    "        dev_acc, dev_loss = evaluate(net, criterion, dev_loader, gpu)\n",
    "        print(\"Epoch {} complete! Development Accuracy: {}; Development Loss: {}\".format(ep+1, dev_acc, dev_loss))\n",
    "        if dev_acc > best_acc:\n",
    "            print(\"Best development accuracy improved from {} to {}, saving model...\".format(best_acc, dev_acc))\n",
    "            best_acc = dev_acc\n",
    "            best_net = net\n",
    "            torch.save(net.state_dict(), 'sstcls_{}.dat'.format(ep+1))\n",
    "    return best_net"
   ]
  },
  {
   "cell_type": "code",
   "execution_count": 14,
   "metadata": {
    "executionInfo": {
     "elapsed": 13,
     "status": "ok",
     "timestamp": 1650856006732,
     "user": {
      "displayName": "小·白菜",
      "userId": "11363145687516653892"
     },
     "user_tz": -480
    },
    "id": "iPPP6VXejq5V"
   },
   "outputs": [],
   "source": [
    "def get_accuracy_from_logits(logits, labels):\n",
    "    preds = logits.argmax(dim=1)\n",
    "    acc = (preds == labels).float().mean()\n",
    "    return acc\n",
    "\n",
    "def evaluate(net, criterion, dataloader, gpu):\n",
    "    net.eval()\n",
    "\n",
    "    mean_acc, mean_loss = 0, 0\n",
    "    count = 0\n",
    "\n",
    "    with torch.no_grad():\n",
    "        for seq, attn_masks, labels in dataloader:\n",
    "            seq, attn_masks, labels = seq.cuda(gpu), attn_masks.cuda(gpu), labels.cuda(gpu)\n",
    "            logits = net(seq, attn_masks)\n",
    "            mean_loss += criterion(logits.squeeze(-1), labels).item()\n",
    "            mean_acc += get_accuracy_from_logits(logits, labels)\n",
    "            count += 1\n",
    "\n",
    "    return mean_acc / count, mean_loss / count"
   ]
  },
  {
   "cell_type": "code",
   "execution_count": 15,
   "metadata": {
    "colab": {
     "base_uri": "https://localhost:8080/"
    },
    "executionInfo": {
     "elapsed": 1517796,
     "status": "ok",
     "timestamp": 1650857530431,
     "user": {
      "displayName": "小·白菜",
      "userId": "11363145687516653892"
     },
     "user_tz": -480
    },
    "id": "zJ1VO2w4jq5V",
    "outputId": "3fbae67f-4276-4293-da4d-b7eb80cbd648"
   },
   "outputs": [
    {
     "name": "stdout",
     "output_type": "stream",
     "text": [
      "Iteration 0 of epoch 1 complete. Loss: 5.9855475425720215; Accuracy: 0.0; Time taken (s): 2.3719849586486816\n",
      "Iteration 10 of epoch 1 complete. Loss: 5.733220100402832; Accuracy: 0.0; Time taken (s): 19.865821599960327\n",
      "Iteration 20 of epoch 1 complete. Loss: 5.072379112243652; Accuracy: 0.125; Time taken (s): 20.2315673828125\n",
      "Iteration 30 of epoch 1 complete. Loss: 4.806010723114014; Accuracy: 0.0625; Time taken (s): 20.26855182647705\n",
      "Iteration 40 of epoch 1 complete. Loss: 4.328001022338867; Accuracy: 0.25; Time taken (s): 20.188449382781982\n",
      "Iteration 50 of epoch 1 complete. Loss: 4.079409122467041; Accuracy: 0.3125; Time taken (s): 20.16918659210205\n",
      "Iteration 60 of epoch 1 complete. Loss: 3.8072619438171387; Accuracy: 0.25; Time taken (s): 20.10268545150757\n",
      "Iteration 70 of epoch 1 complete. Loss: 3.627598762512207; Accuracy: 0.0625; Time taken (s): 20.156567573547363\n",
      "Iteration 80 of epoch 1 complete. Loss: 4.1559529304504395; Accuracy: 0.0625; Time taken (s): 20.096282720565796\n",
      "Iteration 90 of epoch 1 complete. Loss: 4.077836990356445; Accuracy: 0.1875; Time taken (s): 20.153328895568848\n",
      "Iteration 100 of epoch 1 complete. Loss: 3.823655843734741; Accuracy: 0.0625; Time taken (s): 20.085461139678955\n",
      "Iteration 110 of epoch 1 complete. Loss: 2.947474479675293; Accuracy: 0.375; Time taken (s): 20.114351987838745\n",
      "Iteration 120 of epoch 1 complete. Loss: 3.813737392425537; Accuracy: 0.0625; Time taken (s): 20.14444065093994\n",
      "Iteration 130 of epoch 1 complete. Loss: 4.260683536529541; Accuracy: 0.0625; Time taken (s): 20.163289546966553\n",
      "Iteration 140 of epoch 1 complete. Loss: 3.721041679382324; Accuracy: 0.0625; Time taken (s): 20.087213277816772\n",
      "Epoch 1 complete! Development Accuracy: 0.190972238779068; Development Loss: 3.2726229429244995\n",
      "Best development accuracy improved from 0 to 0.190972238779068, saving model...\n",
      "Iteration 0 of epoch 2 complete. Loss: 3.266260862350464; Accuracy: 0.25; Time taken (s): 22.117321729660034\n",
      "Iteration 10 of epoch 2 complete. Loss: 3.3263063430786133; Accuracy: 0.25; Time taken (s): 20.134186029434204\n",
      "Iteration 20 of epoch 2 complete. Loss: 3.009007453918457; Accuracy: 0.1875; Time taken (s): 20.097179889678955\n",
      "Iteration 30 of epoch 2 complete. Loss: 3.2438721656799316; Accuracy: 0.1875; Time taken (s): 20.12308979034424\n",
      "Iteration 40 of epoch 2 complete. Loss: 2.8992972373962402; Accuracy: 0.25; Time taken (s): 20.136983633041382\n",
      "Iteration 50 of epoch 2 complete. Loss: 3.0298006534576416; Accuracy: 0.375; Time taken (s): 20.07771110534668\n",
      "Iteration 60 of epoch 2 complete. Loss: 2.761024236679077; Accuracy: 0.25; Time taken (s): 20.069868326187134\n",
      "Iteration 70 of epoch 2 complete. Loss: 1.959778070449829; Accuracy: 0.625; Time taken (s): 20.077472448349\n",
      "Iteration 80 of epoch 2 complete. Loss: 3.2990779876708984; Accuracy: 0.25; Time taken (s): 20.080514192581177\n",
      "Iteration 90 of epoch 2 complete. Loss: 3.1045491695404053; Accuracy: 0.25; Time taken (s): 20.106752634048462\n",
      "Iteration 100 of epoch 2 complete. Loss: 2.6408705711364746; Accuracy: 0.375; Time taken (s): 20.135281562805176\n",
      "Iteration 110 of epoch 2 complete. Loss: 2.1275272369384766; Accuracy: 0.4375; Time taken (s): 20.104491710662842\n",
      "Iteration 120 of epoch 2 complete. Loss: 3.2033848762512207; Accuracy: 0.0625; Time taken (s): 20.087170362472534\n",
      "Iteration 130 of epoch 2 complete. Loss: 3.6122372150421143; Accuracy: 0.0625; Time taken (s): 20.06933355331421\n",
      "Iteration 140 of epoch 2 complete. Loss: 2.9054746627807617; Accuracy: 0.1875; Time taken (s): 20.07978892326355\n",
      "Epoch 2 complete! Development Accuracy: 0.253472238779068; Development Loss: 2.8181368907292685\n",
      "Best development accuracy improved from 0.190972238779068 to 0.253472238779068, saving model...\n",
      "Iteration 0 of epoch 3 complete. Loss: 2.2963356971740723; Accuracy: 0.6875; Time taken (s): 21.778592586517334\n",
      "Iteration 10 of epoch 3 complete. Loss: 2.444291830062866; Accuracy: 0.375; Time taken (s): 20.093461513519287\n",
      "Iteration 20 of epoch 3 complete. Loss: 2.181756019592285; Accuracy: 0.375; Time taken (s): 20.104848384857178\n",
      "Iteration 30 of epoch 3 complete. Loss: 2.5598795413970947; Accuracy: 0.3125; Time taken (s): 20.149651765823364\n",
      "Iteration 40 of epoch 3 complete. Loss: 2.291719913482666; Accuracy: 0.4375; Time taken (s): 20.090959787368774\n",
      "Iteration 50 of epoch 3 complete. Loss: 2.365539312362671; Accuracy: 0.375; Time taken (s): 20.083701133728027\n",
      "Iteration 60 of epoch 3 complete. Loss: 2.2343034744262695; Accuracy: 0.5; Time taken (s): 20.146148920059204\n",
      "Iteration 70 of epoch 3 complete. Loss: 1.5238454341888428; Accuracy: 0.6875; Time taken (s): 20.11435890197754\n",
      "Iteration 80 of epoch 3 complete. Loss: 2.618419647216797; Accuracy: 0.375; Time taken (s): 20.13891839981079\n",
      "Iteration 90 of epoch 3 complete. Loss: 2.5011179447174072; Accuracy: 0.5; Time taken (s): 20.114776134490967\n",
      "Iteration 100 of epoch 3 complete. Loss: 1.9161564111709595; Accuracy: 0.625; Time taken (s): 20.095191955566406\n",
      "Iteration 110 of epoch 3 complete. Loss: 1.7073931694030762; Accuracy: 0.625; Time taken (s): 20.132278203964233\n",
      "Iteration 120 of epoch 3 complete. Loss: 2.0825488567352295; Accuracy: 0.5; Time taken (s): 20.112876415252686\n",
      "Iteration 130 of epoch 3 complete. Loss: 3.0536303520202637; Accuracy: 0.25; Time taken (s): 20.084330081939697\n",
      "Iteration 140 of epoch 3 complete. Loss: 2.204192638397217; Accuracy: 0.4375; Time taken (s): 20.066935539245605\n",
      "Epoch 3 complete! Development Accuracy: 0.350694477558136; Development Loss: 2.7827839454015098\n",
      "Best development accuracy improved from 0.253472238779068 to 0.350694477558136, saving model...\n",
      "Iteration 0 of epoch 4 complete. Loss: 1.74854576587677; Accuracy: 0.75; Time taken (s): 22.096532106399536\n",
      "Iteration 10 of epoch 4 complete. Loss: 1.702763319015503; Accuracy: 0.75; Time taken (s): 20.076159238815308\n",
      "Iteration 20 of epoch 4 complete. Loss: 1.6657217741012573; Accuracy: 0.5; Time taken (s): 20.117446660995483\n",
      "Iteration 30 of epoch 4 complete. Loss: 1.9017893075942993; Accuracy: 0.625; Time taken (s): 20.130820274353027\n",
      "Iteration 40 of epoch 4 complete. Loss: 1.6496793031692505; Accuracy: 0.625; Time taken (s): 20.100817680358887\n",
      "Iteration 50 of epoch 4 complete. Loss: 1.736251950263977; Accuracy: 0.6875; Time taken (s): 20.084526300430298\n",
      "Iteration 60 of epoch 4 complete. Loss: 1.9304721355438232; Accuracy: 0.5; Time taken (s): 20.08452868461609\n",
      "Iteration 70 of epoch 4 complete. Loss: 0.9997340440750122; Accuracy: 0.9375; Time taken (s): 20.171748876571655\n",
      "Iteration 80 of epoch 4 complete. Loss: 1.9102481603622437; Accuracy: 0.8125; Time taken (s): 20.09507942199707\n",
      "Iteration 90 of epoch 4 complete. Loss: 1.7407666444778442; Accuracy: 0.8125; Time taken (s): 20.162750244140625\n",
      "Iteration 100 of epoch 4 complete. Loss: 1.5049757957458496; Accuracy: 0.75; Time taken (s): 20.108267068862915\n",
      "Iteration 110 of epoch 4 complete. Loss: 1.306047797203064; Accuracy: 0.75; Time taken (s): 20.15057897567749\n",
      "Iteration 120 of epoch 4 complete. Loss: 1.3304014205932617; Accuracy: 0.8125; Time taken (s): 20.07562804222107\n",
      "Iteration 130 of epoch 4 complete. Loss: 2.2059311866760254; Accuracy: 0.5; Time taken (s): 20.082502841949463\n",
      "Iteration 140 of epoch 4 complete. Loss: 1.5934892892837524; Accuracy: 0.625; Time taken (s): 20.074181079864502\n",
      "Epoch 4 complete! Development Accuracy: 0.284722238779068; Development Loss: 2.674395740032196\n",
      "Iteration 0 of epoch 5 complete. Loss: 0.9462093114852905; Accuracy: 1.0; Time taken (s): 20.562560558319092\n",
      "Iteration 10 of epoch 5 complete. Loss: 1.17461359500885; Accuracy: 0.8125; Time taken (s): 20.109533309936523\n",
      "Iteration 20 of epoch 5 complete. Loss: 1.3691308498382568; Accuracy: 0.75; Time taken (s): 20.10159468650818\n",
      "Iteration 30 of epoch 5 complete. Loss: 1.3452579975128174; Accuracy: 0.875; Time taken (s): 20.14891815185547\n",
      "Iteration 40 of epoch 5 complete. Loss: 1.2238683700561523; Accuracy: 0.875; Time taken (s): 20.109108209609985\n",
      "Iteration 50 of epoch 5 complete. Loss: 1.161548137664795; Accuracy: 0.875; Time taken (s): 20.15195059776306\n",
      "Iteration 60 of epoch 5 complete. Loss: 1.2173631191253662; Accuracy: 0.8125; Time taken (s): 20.086230039596558\n",
      "Iteration 70 of epoch 5 complete. Loss: 0.47332727909088135; Accuracy: 0.9375; Time taken (s): 20.11283040046692\n",
      "Iteration 80 of epoch 5 complete. Loss: 1.1013274192810059; Accuracy: 0.8125; Time taken (s): 20.130460500717163\n",
      "Iteration 90 of epoch 5 complete. Loss: 0.882161557674408; Accuracy: 0.875; Time taken (s): 20.11381244659424\n",
      "Iteration 100 of epoch 5 complete. Loss: 0.6016308069229126; Accuracy: 1.0; Time taken (s): 20.14632773399353\n",
      "Iteration 110 of epoch 5 complete. Loss: 0.8140859007835388; Accuracy: 0.875; Time taken (s): 20.099528789520264\n",
      "Iteration 120 of epoch 5 complete. Loss: 0.6791732311248779; Accuracy: 0.875; Time taken (s): 20.081210613250732\n",
      "Iteration 130 of epoch 5 complete. Loss: 1.2114925384521484; Accuracy: 0.8125; Time taken (s): 20.076817750930786\n",
      "Iteration 140 of epoch 5 complete. Loss: 0.9940822720527649; Accuracy: 0.8125; Time taken (s): 20.080559015274048\n",
      "Epoch 5 complete! Development Accuracy: 0.253472238779068; Development Loss: 2.8076955874760947\n"
     ]
    }
   ],
   "source": [
    "num_epoch = 5\n",
    "\n",
    "best_net = train(net, criterion, opti, train_loader, dev_loader, num_epoch, gpu)"
   ]
  },
  {
   "cell_type": "code",
   "execution_count": 17,
   "metadata": {
    "executionInfo": {
     "elapsed": 1066,
     "status": "ok",
     "timestamp": 1650857617656,
     "user": {
      "displayName": "小·白菜",
      "userId": "11363145687516653892"
     },
     "user_tz": -480
    },
    "id": "AYPDq4QLxsw1"
   },
   "outputs": [],
   "source": [
    "test_set = MyDataset(X_test, y_test, maxlen = 365)\n",
    "test_loader = DataLoader(test_set, batch_size = 16, num_workers = 2)"
   ]
  },
  {
   "cell_type": "code",
   "execution_count": 18,
   "metadata": {
    "executionInfo": {
     "elapsed": 8552,
     "status": "ok",
     "timestamp": 1650857667233,
     "user": {
      "displayName": "小·白菜",
      "userId": "11363145687516653892"
     },
     "user_tz": -480
    },
    "id": "JgFHAleGxssf"
   },
   "outputs": [],
   "source": [
    "test_acc, test_loss = evaluate(best_net, criterion, test_loader, gpu)"
   ]
  },
  {
   "cell_type": "code",
   "execution_count": 19,
   "metadata": {
    "colab": {
     "base_uri": "https://localhost:8080/"
    },
    "executionInfo": {
     "elapsed": 297,
     "status": "ok",
     "timestamp": 1650857698927,
     "user": {
      "displayName": "小·白菜",
      "userId": "11363145687516653892"
     },
     "user_tz": -480
    },
    "id": "sr-0kPvexsps",
    "outputId": "caa673c5-705d-451a-cb57-e2a0bb59d1e2"
   },
   "outputs": [
    {
     "name": "stdout",
     "output_type": "stream",
     "text": [
      "Test Accuracy: 0.30416667461395264; Test Loss: 2.879079556465149\n"
     ]
    }
   ],
   "source": [
    "print(\"Test Accuracy: {}; Test Loss: {}\".format(test_acc, test_loss))"
   ]
  }
 ],
 "metadata": {
  "accelerator": "GPU",
  "colab": {
   "collapsed_sections": [],
   "name": "code.ipynb",
   "provenance": []
  },
  "kernelspec": {
   "display_name": "Python 3 (ipykernel)",
   "language": "python",
   "name": "python3"
  },
  "language_info": {
   "codemirror_mode": {
    "name": "ipython",
    "version": 3
   },
   "file_extension": ".py",
   "mimetype": "text/x-python",
   "name": "python",
   "nbconvert_exporter": "python",
   "pygments_lexer": "ipython3",
   "version": "3.9.7"
  },
  "widgets": {
   "application/vnd.jupyter.widget-state+json": {
    "00d85cf5757f4b568f41e44b175efe46": {
     "model_module": "@jupyter-widgets/controls",
     "model_module_version": "1.5.0",
     "model_name": "HTMLModel",
     "state": {
      "_dom_classes": [],
      "_model_module": "@jupyter-widgets/controls",
      "_model_module_version": "1.5.0",
      "_model_name": "HTMLModel",
      "_view_count": null,
      "_view_module": "@jupyter-widgets/controls",
      "_view_module_version": "1.5.0",
      "_view_name": "HTMLView",
      "description": "",
      "description_tooltip": null,
      "layout": "IPY_MODEL_a481296d293945e0ab300110ed6cf156",
      "placeholder": "​",
      "style": "IPY_MODEL_9cbb5b0534b841c5aec6070a10d2e71a",
      "value": "Downloading: 100%"
     }
    },
    "0300905f13ac4deb9d3d49909d9e93b6": {
     "model_module": "@jupyter-widgets/base",
     "model_module_version": "1.2.0",
     "model_name": "LayoutModel",
     "state": {
      "_model_module": "@jupyter-widgets/base",
      "_model_module_version": "1.2.0",
      "_model_name": "LayoutModel",
      "_view_count": null,
      "_view_module": "@jupyter-widgets/base",
      "_view_module_version": "1.2.0",
      "_view_name": "LayoutView",
      "align_content": null,
      "align_items": null,
      "align_self": null,
      "border": null,
      "bottom": null,
      "display": null,
      "flex": null,
      "flex_flow": null,
      "grid_area": null,
      "grid_auto_columns": null,
      "grid_auto_flow": null,
      "grid_auto_rows": null,
      "grid_column": null,
      "grid_gap": null,
      "grid_row": null,
      "grid_template_areas": null,
      "grid_template_columns": null,
      "grid_template_rows": null,
      "height": null,
      "justify_content": null,
      "justify_items": null,
      "left": null,
      "margin": null,
      "max_height": null,
      "max_width": null,
      "min_height": null,
      "min_width": null,
      "object_fit": null,
      "object_position": null,
      "order": null,
      "overflow": null,
      "overflow_x": null,
      "overflow_y": null,
      "padding": null,
      "right": null,
      "top": null,
      "visibility": null,
      "width": null
     }
    },
    "0423ea615e7d439fa9107e7d92af39d8": {
     "model_module": "@jupyter-widgets/base",
     "model_module_version": "1.2.0",
     "model_name": "LayoutModel",
     "state": {
      "_model_module": "@jupyter-widgets/base",
      "_model_module_version": "1.2.0",
      "_model_name": "LayoutModel",
      "_view_count": null,
      "_view_module": "@jupyter-widgets/base",
      "_view_module_version": "1.2.0",
      "_view_name": "LayoutView",
      "align_content": null,
      "align_items": null,
      "align_self": null,
      "border": null,
      "bottom": null,
      "display": null,
      "flex": null,
      "flex_flow": null,
      "grid_area": null,
      "grid_auto_columns": null,
      "grid_auto_flow": null,
      "grid_auto_rows": null,
      "grid_column": null,
      "grid_gap": null,
      "grid_row": null,
      "grid_template_areas": null,
      "grid_template_columns": null,
      "grid_template_rows": null,
      "height": null,
      "justify_content": null,
      "justify_items": null,
      "left": null,
      "margin": null,
      "max_height": null,
      "max_width": null,
      "min_height": null,
      "min_width": null,
      "object_fit": null,
      "object_position": null,
      "order": null,
      "overflow": null,
      "overflow_x": null,
      "overflow_y": null,
      "padding": null,
      "right": null,
      "top": null,
      "visibility": null,
      "width": null
     }
    },
    "04523501d831472490befa3cf9c98b38": {
     "model_module": "@jupyter-widgets/controls",
     "model_module_version": "1.5.0",
     "model_name": "DescriptionStyleModel",
     "state": {
      "_model_module": "@jupyter-widgets/controls",
      "_model_module_version": "1.5.0",
      "_model_name": "DescriptionStyleModel",
      "_view_count": null,
      "_view_module": "@jupyter-widgets/base",
      "_view_module_version": "1.2.0",
      "_view_name": "StyleView",
      "description_width": ""
     }
    },
    "081ea384637c4b678377ea67a6b10301": {
     "model_module": "@jupyter-widgets/controls",
     "model_module_version": "1.5.0",
     "model_name": "HTMLModel",
     "state": {
      "_dom_classes": [],
      "_model_module": "@jupyter-widgets/controls",
      "_model_module_version": "1.5.0",
      "_model_name": "HTMLModel",
      "_view_count": null,
      "_view_module": "@jupyter-widgets/controls",
      "_view_module_version": "1.5.0",
      "_view_name": "HTMLView",
      "description": "",
      "description_tooltip": null,
      "layout": "IPY_MODEL_b693a4fb523a4808b6480148399bbcb0",
      "placeholder": "​",
      "style": "IPY_MODEL_749ae4c9e1674b50b65d89569c9343d6",
      "value": " 28.0/28.0 [00:00&lt;00:00, 609B/s]"
     }
    },
    "0821990f4ed64f6f86dd288eae2523bd": {
     "model_module": "@jupyter-widgets/controls",
     "model_module_version": "1.5.0",
     "model_name": "ProgressStyleModel",
     "state": {
      "_model_module": "@jupyter-widgets/controls",
      "_model_module_version": "1.5.0",
      "_model_name": "ProgressStyleModel",
      "_view_count": null,
      "_view_module": "@jupyter-widgets/base",
      "_view_module_version": "1.2.0",
      "_view_name": "StyleView",
      "bar_color": null,
      "description_width": ""
     }
    },
    "08ad601cb95c416884f3bf03307a07b1": {
     "model_module": "@jupyter-widgets/controls",
     "model_module_version": "1.5.0",
     "model_name": "HBoxModel",
     "state": {
      "_dom_classes": [],
      "_model_module": "@jupyter-widgets/controls",
      "_model_module_version": "1.5.0",
      "_model_name": "HBoxModel",
      "_view_count": null,
      "_view_module": "@jupyter-widgets/controls",
      "_view_module_version": "1.5.0",
      "_view_name": "HBoxView",
      "box_style": "",
      "children": [
       "IPY_MODEL_00d85cf5757f4b568f41e44b175efe46",
       "IPY_MODEL_8e778fcc76ea49349492b4331841242a",
       "IPY_MODEL_2d76b2bac684451780920ced49b14189"
      ],
      "layout": "IPY_MODEL_539cf1f72ca245648e56513b092bd8c2"
     }
    },
    "0aaaca3d4a1c476497fa39e5c67816b3": {
     "model_module": "@jupyter-widgets/controls",
     "model_module_version": "1.5.0",
     "model_name": "HTMLModel",
     "state": {
      "_dom_classes": [],
      "_model_module": "@jupyter-widgets/controls",
      "_model_module_version": "1.5.0",
      "_model_name": "HTMLModel",
      "_view_count": null,
      "_view_module": "@jupyter-widgets/controls",
      "_view_module_version": "1.5.0",
      "_view_name": "HTMLView",
      "description": "",
      "description_tooltip": null,
      "layout": "IPY_MODEL_678cfcc2ec1544728932e61676bbdfc7",
      "placeholder": "​",
      "style": "IPY_MODEL_ba3d54270317478f91da04349b9dca0e",
      "value": "Downloading: 100%"
     }
    },
    "20a42de8beae4ca396cda85734c0e6eb": {
     "model_module": "@jupyter-widgets/controls",
     "model_module_version": "1.5.0",
     "model_name": "FloatProgressModel",
     "state": {
      "_dom_classes": [],
      "_model_module": "@jupyter-widgets/controls",
      "_model_module_version": "1.5.0",
      "_model_name": "FloatProgressModel",
      "_view_count": null,
      "_view_module": "@jupyter-widgets/controls",
      "_view_module_version": "1.5.0",
      "_view_name": "ProgressView",
      "bar_style": "success",
      "description": "",
      "description_tooltip": null,
      "layout": "IPY_MODEL_ee51dfb37f4f4e83b29c6d3497080bfa",
      "max": 231508,
      "min": 0,
      "orientation": "horizontal",
      "style": "IPY_MODEL_370afa5d55434923936d002c1979cc7d",
      "value": 231508
     }
    },
    "27e35399d7b140d8a548d0797996ccb0": {
     "model_module": "@jupyter-widgets/controls",
     "model_module_version": "1.5.0",
     "model_name": "FloatProgressModel",
     "state": {
      "_dom_classes": [],
      "_model_module": "@jupyter-widgets/controls",
      "_model_module_version": "1.5.0",
      "_model_name": "FloatProgressModel",
      "_view_count": null,
      "_view_module": "@jupyter-widgets/controls",
      "_view_module_version": "1.5.0",
      "_view_name": "ProgressView",
      "bar_style": "success",
      "description": "",
      "description_tooltip": null,
      "layout": "IPY_MODEL_f99aa2a017424def99e20b3702ecb418",
      "max": 440473133,
      "min": 0,
      "orientation": "horizontal",
      "style": "IPY_MODEL_db0a6c4c3a934e97b7feedc59c630f04",
      "value": 440473133
     }
    },
    "28ec2dfffb4046d1a3ca115ba3678a7c": {
     "model_module": "@jupyter-widgets/base",
     "model_module_version": "1.2.0",
     "model_name": "LayoutModel",
     "state": {
      "_model_module": "@jupyter-widgets/base",
      "_model_module_version": "1.2.0",
      "_model_name": "LayoutModel",
      "_view_count": null,
      "_view_module": "@jupyter-widgets/base",
      "_view_module_version": "1.2.0",
      "_view_name": "LayoutView",
      "align_content": null,
      "align_items": null,
      "align_self": null,
      "border": null,
      "bottom": null,
      "display": null,
      "flex": null,
      "flex_flow": null,
      "grid_area": null,
      "grid_auto_columns": null,
      "grid_auto_flow": null,
      "grid_auto_rows": null,
      "grid_column": null,
      "grid_gap": null,
      "grid_row": null,
      "grid_template_areas": null,
      "grid_template_columns": null,
      "grid_template_rows": null,
      "height": null,
      "justify_content": null,
      "justify_items": null,
      "left": null,
      "margin": null,
      "max_height": null,
      "max_width": null,
      "min_height": null,
      "min_width": null,
      "object_fit": null,
      "object_position": null,
      "order": null,
      "overflow": null,
      "overflow_x": null,
      "overflow_y": null,
      "padding": null,
      "right": null,
      "top": null,
      "visibility": null,
      "width": null
     }
    },
    "2d76b2bac684451780920ced49b14189": {
     "model_module": "@jupyter-widgets/controls",
     "model_module_version": "1.5.0",
     "model_name": "HTMLModel",
     "state": {
      "_dom_classes": [],
      "_model_module": "@jupyter-widgets/controls",
      "_model_module_version": "1.5.0",
      "_model_name": "HTMLModel",
      "_view_count": null,
      "_view_module": "@jupyter-widgets/controls",
      "_view_module_version": "1.5.0",
      "_view_name": "HTMLView",
      "description": "",
      "description_tooltip": null,
      "layout": "IPY_MODEL_4e362ca371524e42b057d6ef7fe04bb7",
      "placeholder": "​",
      "style": "IPY_MODEL_32cbf3390a40403cb7c48275037a924f",
      "value": " 570/570 [00:00&lt;00:00, 13.6kB/s]"
     }
    },
    "32cbf3390a40403cb7c48275037a924f": {
     "model_module": "@jupyter-widgets/controls",
     "model_module_version": "1.5.0",
     "model_name": "DescriptionStyleModel",
     "state": {
      "_model_module": "@jupyter-widgets/controls",
      "_model_module_version": "1.5.0",
      "_model_name": "DescriptionStyleModel",
      "_view_count": null,
      "_view_module": "@jupyter-widgets/base",
      "_view_module_version": "1.2.0",
      "_view_name": "StyleView",
      "description_width": ""
     }
    },
    "370afa5d55434923936d002c1979cc7d": {
     "model_module": "@jupyter-widgets/controls",
     "model_module_version": "1.5.0",
     "model_name": "ProgressStyleModel",
     "state": {
      "_model_module": "@jupyter-widgets/controls",
      "_model_module_version": "1.5.0",
      "_model_name": "ProgressStyleModel",
      "_view_count": null,
      "_view_module": "@jupyter-widgets/base",
      "_view_module_version": "1.2.0",
      "_view_name": "StyleView",
      "bar_color": null,
      "description_width": ""
     }
    },
    "3c4e16e41c4e48beb277a86e1367fb98": {
     "model_module": "@jupyter-widgets/base",
     "model_module_version": "1.2.0",
     "model_name": "LayoutModel",
     "state": {
      "_model_module": "@jupyter-widgets/base",
      "_model_module_version": "1.2.0",
      "_model_name": "LayoutModel",
      "_view_count": null,
      "_view_module": "@jupyter-widgets/base",
      "_view_module_version": "1.2.0",
      "_view_name": "LayoutView",
      "align_content": null,
      "align_items": null,
      "align_self": null,
      "border": null,
      "bottom": null,
      "display": null,
      "flex": null,
      "flex_flow": null,
      "grid_area": null,
      "grid_auto_columns": null,
      "grid_auto_flow": null,
      "grid_auto_rows": null,
      "grid_column": null,
      "grid_gap": null,
      "grid_row": null,
      "grid_template_areas": null,
      "grid_template_columns": null,
      "grid_template_rows": null,
      "height": null,
      "justify_content": null,
      "justify_items": null,
      "left": null,
      "margin": null,
      "max_height": null,
      "max_width": null,
      "min_height": null,
      "min_width": null,
      "object_fit": null,
      "object_position": null,
      "order": null,
      "overflow": null,
      "overflow_x": null,
      "overflow_y": null,
      "padding": null,
      "right": null,
      "top": null,
      "visibility": null,
      "width": null
     }
    },
    "4a6985c4807f43c78a5a4979a220ab6c": {
     "model_module": "@jupyter-widgets/controls",
     "model_module_version": "1.5.0",
     "model_name": "ProgressStyleModel",
     "state": {
      "_model_module": "@jupyter-widgets/controls",
      "_model_module_version": "1.5.0",
      "_model_name": "ProgressStyleModel",
      "_view_count": null,
      "_view_module": "@jupyter-widgets/base",
      "_view_module_version": "1.2.0",
      "_view_name": "StyleView",
      "bar_color": null,
      "description_width": ""
     }
    },
    "4da051f26ab34cd9a1f93f522ffb9254": {
     "model_module": "@jupyter-widgets/controls",
     "model_module_version": "1.5.0",
     "model_name": "HBoxModel",
     "state": {
      "_dom_classes": [],
      "_model_module": "@jupyter-widgets/controls",
      "_model_module_version": "1.5.0",
      "_model_name": "HBoxModel",
      "_view_count": null,
      "_view_module": "@jupyter-widgets/controls",
      "_view_module_version": "1.5.0",
      "_view_name": "HBoxView",
      "box_style": "",
      "children": [
       "IPY_MODEL_f920b6ff34a14ceb8d68e6ca91be31e7",
       "IPY_MODEL_27e35399d7b140d8a548d0797996ccb0",
       "IPY_MODEL_ff166a8063214ca682cf74d7364ab5b3"
      ],
      "layout": "IPY_MODEL_8524ce6e2b164a01b8ff8c4c84a09003"
     }
    },
    "4e362ca371524e42b057d6ef7fe04bb7": {
     "model_module": "@jupyter-widgets/base",
     "model_module_version": "1.2.0",
     "model_name": "LayoutModel",
     "state": {
      "_model_module": "@jupyter-widgets/base",
      "_model_module_version": "1.2.0",
      "_model_name": "LayoutModel",
      "_view_count": null,
      "_view_module": "@jupyter-widgets/base",
      "_view_module_version": "1.2.0",
      "_view_name": "LayoutView",
      "align_content": null,
      "align_items": null,
      "align_self": null,
      "border": null,
      "bottom": null,
      "display": null,
      "flex": null,
      "flex_flow": null,
      "grid_area": null,
      "grid_auto_columns": null,
      "grid_auto_flow": null,
      "grid_auto_rows": null,
      "grid_column": null,
      "grid_gap": null,
      "grid_row": null,
      "grid_template_areas": null,
      "grid_template_columns": null,
      "grid_template_rows": null,
      "height": null,
      "justify_content": null,
      "justify_items": null,
      "left": null,
      "margin": null,
      "max_height": null,
      "max_width": null,
      "min_height": null,
      "min_width": null,
      "object_fit": null,
      "object_position": null,
      "order": null,
      "overflow": null,
      "overflow_x": null,
      "overflow_y": null,
      "padding": null,
      "right": null,
      "top": null,
      "visibility": null,
      "width": null
     }
    },
    "4f255567860443d9962bdadfddfbbcee": {
     "model_module": "@jupyter-widgets/controls",
     "model_module_version": "1.5.0",
     "model_name": "HTMLModel",
     "state": {
      "_dom_classes": [],
      "_model_module": "@jupyter-widgets/controls",
      "_model_module_version": "1.5.0",
      "_model_name": "HTMLModel",
      "_view_count": null,
      "_view_module": "@jupyter-widgets/controls",
      "_view_module_version": "1.5.0",
      "_view_name": "HTMLView",
      "description": "",
      "description_tooltip": null,
      "layout": "IPY_MODEL_3c4e16e41c4e48beb277a86e1367fb98",
      "placeholder": "​",
      "style": "IPY_MODEL_04523501d831472490befa3cf9c98b38",
      "value": "Downloading: 100%"
     }
    },
    "539cf1f72ca245648e56513b092bd8c2": {
     "model_module": "@jupyter-widgets/base",
     "model_module_version": "1.2.0",
     "model_name": "LayoutModel",
     "state": {
      "_model_module": "@jupyter-widgets/base",
      "_model_module_version": "1.2.0",
      "_model_name": "LayoutModel",
      "_view_count": null,
      "_view_module": "@jupyter-widgets/base",
      "_view_module_version": "1.2.0",
      "_view_name": "LayoutView",
      "align_content": null,
      "align_items": null,
      "align_self": null,
      "border": null,
      "bottom": null,
      "display": null,
      "flex": null,
      "flex_flow": null,
      "grid_area": null,
      "grid_auto_columns": null,
      "grid_auto_flow": null,
      "grid_auto_rows": null,
      "grid_column": null,
      "grid_gap": null,
      "grid_row": null,
      "grid_template_areas": null,
      "grid_template_columns": null,
      "grid_template_rows": null,
      "height": null,
      "justify_content": null,
      "justify_items": null,
      "left": null,
      "margin": null,
      "max_height": null,
      "max_width": null,
      "min_height": null,
      "min_width": null,
      "object_fit": null,
      "object_position": null,
      "order": null,
      "overflow": null,
      "overflow_x": null,
      "overflow_y": null,
      "padding": null,
      "right": null,
      "top": null,
      "visibility": null,
      "width": null
     }
    },
    "55dde3ecd136492188811ca928af2266": {
     "model_module": "@jupyter-widgets/base",
     "model_module_version": "1.2.0",
     "model_name": "LayoutModel",
     "state": {
      "_model_module": "@jupyter-widgets/base",
      "_model_module_version": "1.2.0",
      "_model_name": "LayoutModel",
      "_view_count": null,
      "_view_module": "@jupyter-widgets/base",
      "_view_module_version": "1.2.0",
      "_view_name": "LayoutView",
      "align_content": null,
      "align_items": null,
      "align_self": null,
      "border": null,
      "bottom": null,
      "display": null,
      "flex": null,
      "flex_flow": null,
      "grid_area": null,
      "grid_auto_columns": null,
      "grid_auto_flow": null,
      "grid_auto_rows": null,
      "grid_column": null,
      "grid_gap": null,
      "grid_row": null,
      "grid_template_areas": null,
      "grid_template_columns": null,
      "grid_template_rows": null,
      "height": null,
      "justify_content": null,
      "justify_items": null,
      "left": null,
      "margin": null,
      "max_height": null,
      "max_width": null,
      "min_height": null,
      "min_width": null,
      "object_fit": null,
      "object_position": null,
      "order": null,
      "overflow": null,
      "overflow_x": null,
      "overflow_y": null,
      "padding": null,
      "right": null,
      "top": null,
      "visibility": null,
      "width": null
     }
    },
    "62c5e957b26342649990c7e08510bd29": {
     "model_module": "@jupyter-widgets/controls",
     "model_module_version": "1.5.0",
     "model_name": "FloatProgressModel",
     "state": {
      "_dom_classes": [],
      "_model_module": "@jupyter-widgets/controls",
      "_model_module_version": "1.5.0",
      "_model_name": "FloatProgressModel",
      "_view_count": null,
      "_view_module": "@jupyter-widgets/controls",
      "_view_module_version": "1.5.0",
      "_view_name": "ProgressView",
      "bar_style": "success",
      "description": "",
      "description_tooltip": null,
      "layout": "IPY_MODEL_82bda0d6512248db852e2ca1d15ced9e",
      "max": 28,
      "min": 0,
      "orientation": "horizontal",
      "style": "IPY_MODEL_4a6985c4807f43c78a5a4979a220ab6c",
      "value": 28
     }
    },
    "678cfcc2ec1544728932e61676bbdfc7": {
     "model_module": "@jupyter-widgets/base",
     "model_module_version": "1.2.0",
     "model_name": "LayoutModel",
     "state": {
      "_model_module": "@jupyter-widgets/base",
      "_model_module_version": "1.2.0",
      "_model_name": "LayoutModel",
      "_view_count": null,
      "_view_module": "@jupyter-widgets/base",
      "_view_module_version": "1.2.0",
      "_view_name": "LayoutView",
      "align_content": null,
      "align_items": null,
      "align_self": null,
      "border": null,
      "bottom": null,
      "display": null,
      "flex": null,
      "flex_flow": null,
      "grid_area": null,
      "grid_auto_columns": null,
      "grid_auto_flow": null,
      "grid_auto_rows": null,
      "grid_column": null,
      "grid_gap": null,
      "grid_row": null,
      "grid_template_areas": null,
      "grid_template_columns": null,
      "grid_template_rows": null,
      "height": null,
      "justify_content": null,
      "justify_items": null,
      "left": null,
      "margin": null,
      "max_height": null,
      "max_width": null,
      "min_height": null,
      "min_width": null,
      "object_fit": null,
      "object_position": null,
      "order": null,
      "overflow": null,
      "overflow_x": null,
      "overflow_y": null,
      "padding": null,
      "right": null,
      "top": null,
      "visibility": null,
      "width": null
     }
    },
    "6d1fa6a154d54695a98178e60613161e": {
     "model_module": "@jupyter-widgets/controls",
     "model_module_version": "1.5.0",
     "model_name": "HTMLModel",
     "state": {
      "_dom_classes": [],
      "_model_module": "@jupyter-widgets/controls",
      "_model_module_version": "1.5.0",
      "_model_name": "HTMLModel",
      "_view_count": null,
      "_view_module": "@jupyter-widgets/controls",
      "_view_module_version": "1.5.0",
      "_view_name": "HTMLView",
      "description": "",
      "description_tooltip": null,
      "layout": "IPY_MODEL_a55b2b87180342228f5282b9d603141a",
      "placeholder": "​",
      "style": "IPY_MODEL_76156bca8d6e48ba8ae3cfe1dfc9eccb",
      "value": " 226k/226k [00:00&lt;00:00, 1.29MB/s]"
     }
    },
    "70602a3321884feb893536a925dddd4a": {
     "model_module": "@jupyter-widgets/base",
     "model_module_version": "1.2.0",
     "model_name": "LayoutModel",
     "state": {
      "_model_module": "@jupyter-widgets/base",
      "_model_module_version": "1.2.0",
      "_model_name": "LayoutModel",
      "_view_count": null,
      "_view_module": "@jupyter-widgets/base",
      "_view_module_version": "1.2.0",
      "_view_name": "LayoutView",
      "align_content": null,
      "align_items": null,
      "align_self": null,
      "border": null,
      "bottom": null,
      "display": null,
      "flex": null,
      "flex_flow": null,
      "grid_area": null,
      "grid_auto_columns": null,
      "grid_auto_flow": null,
      "grid_auto_rows": null,
      "grid_column": null,
      "grid_gap": null,
      "grid_row": null,
      "grid_template_areas": null,
      "grid_template_columns": null,
      "grid_template_rows": null,
      "height": null,
      "justify_content": null,
      "justify_items": null,
      "left": null,
      "margin": null,
      "max_height": null,
      "max_width": null,
      "min_height": null,
      "min_width": null,
      "object_fit": null,
      "object_position": null,
      "order": null,
      "overflow": null,
      "overflow_x": null,
      "overflow_y": null,
      "padding": null,
      "right": null,
      "top": null,
      "visibility": null,
      "width": null
     }
    },
    "749ae4c9e1674b50b65d89569c9343d6": {
     "model_module": "@jupyter-widgets/controls",
     "model_module_version": "1.5.0",
     "model_name": "DescriptionStyleModel",
     "state": {
      "_model_module": "@jupyter-widgets/controls",
      "_model_module_version": "1.5.0",
      "_model_name": "DescriptionStyleModel",
      "_view_count": null,
      "_view_module": "@jupyter-widgets/base",
      "_view_module_version": "1.2.0",
      "_view_name": "StyleView",
      "description_width": ""
     }
    },
    "76156bca8d6e48ba8ae3cfe1dfc9eccb": {
     "model_module": "@jupyter-widgets/controls",
     "model_module_version": "1.5.0",
     "model_name": "DescriptionStyleModel",
     "state": {
      "_model_module": "@jupyter-widgets/controls",
      "_model_module_version": "1.5.0",
      "_model_name": "DescriptionStyleModel",
      "_view_count": null,
      "_view_module": "@jupyter-widgets/base",
      "_view_module_version": "1.2.0",
      "_view_name": "StyleView",
      "description_width": ""
     }
    },
    "82bda0d6512248db852e2ca1d15ced9e": {
     "model_module": "@jupyter-widgets/base",
     "model_module_version": "1.2.0",
     "model_name": "LayoutModel",
     "state": {
      "_model_module": "@jupyter-widgets/base",
      "_model_module_version": "1.2.0",
      "_model_name": "LayoutModel",
      "_view_count": null,
      "_view_module": "@jupyter-widgets/base",
      "_view_module_version": "1.2.0",
      "_view_name": "LayoutView",
      "align_content": null,
      "align_items": null,
      "align_self": null,
      "border": null,
      "bottom": null,
      "display": null,
      "flex": null,
      "flex_flow": null,
      "grid_area": null,
      "grid_auto_columns": null,
      "grid_auto_flow": null,
      "grid_auto_rows": null,
      "grid_column": null,
      "grid_gap": null,
      "grid_row": null,
      "grid_template_areas": null,
      "grid_template_columns": null,
      "grid_template_rows": null,
      "height": null,
      "justify_content": null,
      "justify_items": null,
      "left": null,
      "margin": null,
      "max_height": null,
      "max_width": null,
      "min_height": null,
      "min_width": null,
      "object_fit": null,
      "object_position": null,
      "order": null,
      "overflow": null,
      "overflow_x": null,
      "overflow_y": null,
      "padding": null,
      "right": null,
      "top": null,
      "visibility": null,
      "width": null
     }
    },
    "8524ce6e2b164a01b8ff8c4c84a09003": {
     "model_module": "@jupyter-widgets/base",
     "model_module_version": "1.2.0",
     "model_name": "LayoutModel",
     "state": {
      "_model_module": "@jupyter-widgets/base",
      "_model_module_version": "1.2.0",
      "_model_name": "LayoutModel",
      "_view_count": null,
      "_view_module": "@jupyter-widgets/base",
      "_view_module_version": "1.2.0",
      "_view_name": "LayoutView",
      "align_content": null,
      "align_items": null,
      "align_self": null,
      "border": null,
      "bottom": null,
      "display": null,
      "flex": null,
      "flex_flow": null,
      "grid_area": null,
      "grid_auto_columns": null,
      "grid_auto_flow": null,
      "grid_auto_rows": null,
      "grid_column": null,
      "grid_gap": null,
      "grid_row": null,
      "grid_template_areas": null,
      "grid_template_columns": null,
      "grid_template_rows": null,
      "height": null,
      "justify_content": null,
      "justify_items": null,
      "left": null,
      "margin": null,
      "max_height": null,
      "max_width": null,
      "min_height": null,
      "min_width": null,
      "object_fit": null,
      "object_position": null,
      "order": null,
      "overflow": null,
      "overflow_x": null,
      "overflow_y": null,
      "padding": null,
      "right": null,
      "top": null,
      "visibility": null,
      "width": null
     }
    },
    "8e778fcc76ea49349492b4331841242a": {
     "model_module": "@jupyter-widgets/controls",
     "model_module_version": "1.5.0",
     "model_name": "FloatProgressModel",
     "state": {
      "_dom_classes": [],
      "_model_module": "@jupyter-widgets/controls",
      "_model_module_version": "1.5.0",
      "_model_name": "FloatProgressModel",
      "_view_count": null,
      "_view_module": "@jupyter-widgets/controls",
      "_view_module_version": "1.5.0",
      "_view_name": "ProgressView",
      "bar_style": "success",
      "description": "",
      "description_tooltip": null,
      "layout": "IPY_MODEL_70602a3321884feb893536a925dddd4a",
      "max": 570,
      "min": 0,
      "orientation": "horizontal",
      "style": "IPY_MODEL_0821990f4ed64f6f86dd288eae2523bd",
      "value": 570
     }
    },
    "9cbb5b0534b841c5aec6070a10d2e71a": {
     "model_module": "@jupyter-widgets/controls",
     "model_module_version": "1.5.0",
     "model_name": "DescriptionStyleModel",
     "state": {
      "_model_module": "@jupyter-widgets/controls",
      "_model_module_version": "1.5.0",
      "_model_name": "DescriptionStyleModel",
      "_view_count": null,
      "_view_module": "@jupyter-widgets/base",
      "_view_module_version": "1.2.0",
      "_view_name": "StyleView",
      "description_width": ""
     }
    },
    "a481296d293945e0ab300110ed6cf156": {
     "model_module": "@jupyter-widgets/base",
     "model_module_version": "1.2.0",
     "model_name": "LayoutModel",
     "state": {
      "_model_module": "@jupyter-widgets/base",
      "_model_module_version": "1.2.0",
      "_model_name": "LayoutModel",
      "_view_count": null,
      "_view_module": "@jupyter-widgets/base",
      "_view_module_version": "1.2.0",
      "_view_name": "LayoutView",
      "align_content": null,
      "align_items": null,
      "align_self": null,
      "border": null,
      "bottom": null,
      "display": null,
      "flex": null,
      "flex_flow": null,
      "grid_area": null,
      "grid_auto_columns": null,
      "grid_auto_flow": null,
      "grid_auto_rows": null,
      "grid_column": null,
      "grid_gap": null,
      "grid_row": null,
      "grid_template_areas": null,
      "grid_template_columns": null,
      "grid_template_rows": null,
      "height": null,
      "justify_content": null,
      "justify_items": null,
      "left": null,
      "margin": null,
      "max_height": null,
      "max_width": null,
      "min_height": null,
      "min_width": null,
      "object_fit": null,
      "object_position": null,
      "order": null,
      "overflow": null,
      "overflow_x": null,
      "overflow_y": null,
      "padding": null,
      "right": null,
      "top": null,
      "visibility": null,
      "width": null
     }
    },
    "a55b2b87180342228f5282b9d603141a": {
     "model_module": "@jupyter-widgets/base",
     "model_module_version": "1.2.0",
     "model_name": "LayoutModel",
     "state": {
      "_model_module": "@jupyter-widgets/base",
      "_model_module_version": "1.2.0",
      "_model_name": "LayoutModel",
      "_view_count": null,
      "_view_module": "@jupyter-widgets/base",
      "_view_module_version": "1.2.0",
      "_view_name": "LayoutView",
      "align_content": null,
      "align_items": null,
      "align_self": null,
      "border": null,
      "bottom": null,
      "display": null,
      "flex": null,
      "flex_flow": null,
      "grid_area": null,
      "grid_auto_columns": null,
      "grid_auto_flow": null,
      "grid_auto_rows": null,
      "grid_column": null,
      "grid_gap": null,
      "grid_row": null,
      "grid_template_areas": null,
      "grid_template_columns": null,
      "grid_template_rows": null,
      "height": null,
      "justify_content": null,
      "justify_items": null,
      "left": null,
      "margin": null,
      "max_height": null,
      "max_width": null,
      "min_height": null,
      "min_width": null,
      "object_fit": null,
      "object_position": null,
      "order": null,
      "overflow": null,
      "overflow_x": null,
      "overflow_y": null,
      "padding": null,
      "right": null,
      "top": null,
      "visibility": null,
      "width": null
     }
    },
    "a659d1db6b4e4e42ae4428337ac35597": {
     "model_module": "@jupyter-widgets/controls",
     "model_module_version": "1.5.0",
     "model_name": "DescriptionStyleModel",
     "state": {
      "_model_module": "@jupyter-widgets/controls",
      "_model_module_version": "1.5.0",
      "_model_name": "DescriptionStyleModel",
      "_view_count": null,
      "_view_module": "@jupyter-widgets/base",
      "_view_module_version": "1.2.0",
      "_view_name": "StyleView",
      "description_width": ""
     }
    },
    "ab828d4e3b274884826491f943389e72": {
     "model_module": "@jupyter-widgets/controls",
     "model_module_version": "1.5.0",
     "model_name": "HBoxModel",
     "state": {
      "_dom_classes": [],
      "_model_module": "@jupyter-widgets/controls",
      "_model_module_version": "1.5.0",
      "_model_name": "HBoxModel",
      "_view_count": null,
      "_view_module": "@jupyter-widgets/controls",
      "_view_module_version": "1.5.0",
      "_view_name": "HBoxView",
      "box_style": "",
      "children": [
       "IPY_MODEL_0aaaca3d4a1c476497fa39e5c67816b3",
       "IPY_MODEL_62c5e957b26342649990c7e08510bd29",
       "IPY_MODEL_081ea384637c4b678377ea67a6b10301"
      ],
      "layout": "IPY_MODEL_28ec2dfffb4046d1a3ca115ba3678a7c"
     }
    },
    "af6791e0f01142a0a76a579429eefa4d": {
     "model_module": "@jupyter-widgets/controls",
     "model_module_version": "1.5.0",
     "model_name": "HBoxModel",
     "state": {
      "_dom_classes": [],
      "_model_module": "@jupyter-widgets/controls",
      "_model_module_version": "1.5.0",
      "_model_name": "HBoxModel",
      "_view_count": null,
      "_view_module": "@jupyter-widgets/controls",
      "_view_module_version": "1.5.0",
      "_view_name": "HBoxView",
      "box_style": "",
      "children": [
       "IPY_MODEL_4f255567860443d9962bdadfddfbbcee",
       "IPY_MODEL_20a42de8beae4ca396cda85734c0e6eb",
       "IPY_MODEL_6d1fa6a154d54695a98178e60613161e"
      ],
      "layout": "IPY_MODEL_0300905f13ac4deb9d3d49909d9e93b6"
     }
    },
    "b693a4fb523a4808b6480148399bbcb0": {
     "model_module": "@jupyter-widgets/base",
     "model_module_version": "1.2.0",
     "model_name": "LayoutModel",
     "state": {
      "_model_module": "@jupyter-widgets/base",
      "_model_module_version": "1.2.0",
      "_model_name": "LayoutModel",
      "_view_count": null,
      "_view_module": "@jupyter-widgets/base",
      "_view_module_version": "1.2.0",
      "_view_name": "LayoutView",
      "align_content": null,
      "align_items": null,
      "align_self": null,
      "border": null,
      "bottom": null,
      "display": null,
      "flex": null,
      "flex_flow": null,
      "grid_area": null,
      "grid_auto_columns": null,
      "grid_auto_flow": null,
      "grid_auto_rows": null,
      "grid_column": null,
      "grid_gap": null,
      "grid_row": null,
      "grid_template_areas": null,
      "grid_template_columns": null,
      "grid_template_rows": null,
      "height": null,
      "justify_content": null,
      "justify_items": null,
      "left": null,
      "margin": null,
      "max_height": null,
      "max_width": null,
      "min_height": null,
      "min_width": null,
      "object_fit": null,
      "object_position": null,
      "order": null,
      "overflow": null,
      "overflow_x": null,
      "overflow_y": null,
      "padding": null,
      "right": null,
      "top": null,
      "visibility": null,
      "width": null
     }
    },
    "ba3d54270317478f91da04349b9dca0e": {
     "model_module": "@jupyter-widgets/controls",
     "model_module_version": "1.5.0",
     "model_name": "DescriptionStyleModel",
     "state": {
      "_model_module": "@jupyter-widgets/controls",
      "_model_module_version": "1.5.0",
      "_model_name": "DescriptionStyleModel",
      "_view_count": null,
      "_view_module": "@jupyter-widgets/base",
      "_view_module_version": "1.2.0",
      "_view_name": "StyleView",
      "description_width": ""
     }
    },
    "db0a6c4c3a934e97b7feedc59c630f04": {
     "model_module": "@jupyter-widgets/controls",
     "model_module_version": "1.5.0",
     "model_name": "ProgressStyleModel",
     "state": {
      "_model_module": "@jupyter-widgets/controls",
      "_model_module_version": "1.5.0",
      "_model_name": "ProgressStyleModel",
      "_view_count": null,
      "_view_module": "@jupyter-widgets/base",
      "_view_module_version": "1.2.0",
      "_view_name": "StyleView",
      "bar_color": null,
      "description_width": ""
     }
    },
    "ecae3ae847de44b58657a5581bb88277": {
     "model_module": "@jupyter-widgets/controls",
     "model_module_version": "1.5.0",
     "model_name": "DescriptionStyleModel",
     "state": {
      "_model_module": "@jupyter-widgets/controls",
      "_model_module_version": "1.5.0",
      "_model_name": "DescriptionStyleModel",
      "_view_count": null,
      "_view_module": "@jupyter-widgets/base",
      "_view_module_version": "1.2.0",
      "_view_name": "StyleView",
      "description_width": ""
     }
    },
    "ee51dfb37f4f4e83b29c6d3497080bfa": {
     "model_module": "@jupyter-widgets/base",
     "model_module_version": "1.2.0",
     "model_name": "LayoutModel",
     "state": {
      "_model_module": "@jupyter-widgets/base",
      "_model_module_version": "1.2.0",
      "_model_name": "LayoutModel",
      "_view_count": null,
      "_view_module": "@jupyter-widgets/base",
      "_view_module_version": "1.2.0",
      "_view_name": "LayoutView",
      "align_content": null,
      "align_items": null,
      "align_self": null,
      "border": null,
      "bottom": null,
      "display": null,
      "flex": null,
      "flex_flow": null,
      "grid_area": null,
      "grid_auto_columns": null,
      "grid_auto_flow": null,
      "grid_auto_rows": null,
      "grid_column": null,
      "grid_gap": null,
      "grid_row": null,
      "grid_template_areas": null,
      "grid_template_columns": null,
      "grid_template_rows": null,
      "height": null,
      "justify_content": null,
      "justify_items": null,
      "left": null,
      "margin": null,
      "max_height": null,
      "max_width": null,
      "min_height": null,
      "min_width": null,
      "object_fit": null,
      "object_position": null,
      "order": null,
      "overflow": null,
      "overflow_x": null,
      "overflow_y": null,
      "padding": null,
      "right": null,
      "top": null,
      "visibility": null,
      "width": null
     }
    },
    "f920b6ff34a14ceb8d68e6ca91be31e7": {
     "model_module": "@jupyter-widgets/controls",
     "model_module_version": "1.5.0",
     "model_name": "HTMLModel",
     "state": {
      "_dom_classes": [],
      "_model_module": "@jupyter-widgets/controls",
      "_model_module_version": "1.5.0",
      "_model_name": "HTMLModel",
      "_view_count": null,
      "_view_module": "@jupyter-widgets/controls",
      "_view_module_version": "1.5.0",
      "_view_name": "HTMLView",
      "description": "",
      "description_tooltip": null,
      "layout": "IPY_MODEL_55dde3ecd136492188811ca928af2266",
      "placeholder": "​",
      "style": "IPY_MODEL_a659d1db6b4e4e42ae4428337ac35597",
      "value": "Downloading: 100%"
     }
    },
    "f99aa2a017424def99e20b3702ecb418": {
     "model_module": "@jupyter-widgets/base",
     "model_module_version": "1.2.0",
     "model_name": "LayoutModel",
     "state": {
      "_model_module": "@jupyter-widgets/base",
      "_model_module_version": "1.2.0",
      "_model_name": "LayoutModel",
      "_view_count": null,
      "_view_module": "@jupyter-widgets/base",
      "_view_module_version": "1.2.0",
      "_view_name": "LayoutView",
      "align_content": null,
      "align_items": null,
      "align_self": null,
      "border": null,
      "bottom": null,
      "display": null,
      "flex": null,
      "flex_flow": null,
      "grid_area": null,
      "grid_auto_columns": null,
      "grid_auto_flow": null,
      "grid_auto_rows": null,
      "grid_column": null,
      "grid_gap": null,
      "grid_row": null,
      "grid_template_areas": null,
      "grid_template_columns": null,
      "grid_template_rows": null,
      "height": null,
      "justify_content": null,
      "justify_items": null,
      "left": null,
      "margin": null,
      "max_height": null,
      "max_width": null,
      "min_height": null,
      "min_width": null,
      "object_fit": null,
      "object_position": null,
      "order": null,
      "overflow": null,
      "overflow_x": null,
      "overflow_y": null,
      "padding": null,
      "right": null,
      "top": null,
      "visibility": null,
      "width": null
     }
    },
    "ff166a8063214ca682cf74d7364ab5b3": {
     "model_module": "@jupyter-widgets/controls",
     "model_module_version": "1.5.0",
     "model_name": "HTMLModel",
     "state": {
      "_dom_classes": [],
      "_model_module": "@jupyter-widgets/controls",
      "_model_module_version": "1.5.0",
      "_model_name": "HTMLModel",
      "_view_count": null,
      "_view_module": "@jupyter-widgets/controls",
      "_view_module_version": "1.5.0",
      "_view_name": "HTMLView",
      "description": "",
      "description_tooltip": null,
      "layout": "IPY_MODEL_0423ea615e7d439fa9107e7d92af39d8",
      "placeholder": "​",
      "style": "IPY_MODEL_ecae3ae847de44b58657a5581bb88277",
      "value": " 420M/420M [00:22&lt;00:00, 18.1MB/s]"
     }
    }
   }
  }
 },
 "nbformat": 4,
 "nbformat_minor": 1
}
