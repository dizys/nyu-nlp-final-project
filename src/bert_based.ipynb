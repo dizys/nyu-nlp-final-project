{
 "cells": [
  {
   "cell_type": "code",
   "execution_count": 1,
   "metadata": {
    "colab": {
     "base_uri": "https://localhost:8080/"
    },
    "executionInfo": {
     "elapsed": 17705,
     "status": "ok",
     "timestamp": 1650936973075,
     "user": {
      "displayName": "小·白菜",
      "userId": "11363145687516653892"
     },
     "user_tz": -480
    },
    "id": "r6g7LA4GkETt",
    "outputId": "5d84da36-9770-40b1-c744-477e99fe618c"
   },
   "outputs": [
    {
     "name": "stdout",
     "output_type": "stream",
     "text": [
      "Mounted at /content/drive\n"
     ]
    }
   ],
   "source": [
    "from google.colab import drive\n",
    "drive.mount('/content/drive')"
   ]
  },
  {
   "cell_type": "code",
   "execution_count": 2,
   "metadata": {
    "colab": {
     "base_uri": "https://localhost:8080/"
    },
    "executionInfo": {
     "elapsed": 725,
     "status": "ok",
     "timestamp": 1650936973788,
     "user": {
      "displayName": "小·白菜",
      "userId": "11363145687516653892"
     },
     "user_tz": -480
    },
    "id": "8-WqpGQCkDsk",
    "outputId": "82137c0a-a720-4f69-aabf-6e0ca9a553bb"
   },
   "outputs": [
    {
     "name": "stdout",
     "output_type": "stream",
     "text": [
      "Archive:  /content/drive/MyDrive/Partitive-Files.zip\n",
      "   creating: ./Partitive-Files/\n",
      "  inflating: ./__MACOSX/._Partitive-Files  \n",
      "  inflating: ./Partitive-Files/part-training  \n",
      "  inflating: ./__MACOSX/Partitive-Files/._part-training  \n",
      "  inflating: ./Partitive-Files/part-test  \n",
      "  inflating: ./__MACOSX/Partitive-Files/._part-test  \n",
      "  inflating: ./Partitive-Files/README.txt  \n",
      "  inflating: ./__MACOSX/Partitive-Files/._README.txt  \n",
      "  inflating: ./Partitive-Files/part-dev  \n",
      "  inflating: ./__MACOSX/Partitive-Files/._part-dev  \n",
      "  inflating: ./Partitive-Files/%-dev  \n",
      "  inflating: ./__MACOSX/Partitive-Files/._%-dev  \n",
      "  inflating: ./Partitive-Files/%-training  \n",
      "  inflating: ./__MACOSX/Partitive-Files/._%-training  \n",
      "  inflating: ./Partitive-Files/%-test  \n",
      "  inflating: ./__MACOSX/Partitive-Files/._%-test  \n"
     ]
    }
   ],
   "source": [
    "!unzip -d ./ /content/drive/MyDrive/Partitive-Files.zip"
   ]
  },
  {
   "cell_type": "code",
   "execution_count": 3,
   "metadata": {
    "colab": {
     "base_uri": "https://localhost:8080/"
    },
    "executionInfo": {
     "elapsed": 10394,
     "status": "ok",
     "timestamp": 1650936986606,
     "user": {
      "displayName": "小·白菜",
      "userId": "11363145687516653892"
     },
     "user_tz": -480
    },
    "id": "zQHgVsXDkcMU",
    "outputId": "8ec91550-953d-44df-db35-979963887a8f"
   },
   "outputs": [
    {
     "name": "stdout",
     "output_type": "stream",
     "text": [
      "Collecting transformers\n",
      "  Downloading transformers-4.18.0-py3-none-any.whl (4.0 MB)\n",
      "\u001b[K     |████████████████████████████████| 4.0 MB 5.2 MB/s \n",
      "\u001b[?25hRequirement already satisfied: numpy>=1.17 in /usr/local/lib/python3.7/dist-packages (from transformers) (1.21.6)\n",
      "Collecting pyyaml>=5.1\n",
      "  Downloading PyYAML-6.0-cp37-cp37m-manylinux_2_5_x86_64.manylinux1_x86_64.manylinux_2_12_x86_64.manylinux2010_x86_64.whl (596 kB)\n",
      "\u001b[K     |████████████████████████████████| 596 kB 45.0 MB/s \n",
      "\u001b[?25hCollecting sacremoses\n",
      "  Downloading sacremoses-0.0.49-py3-none-any.whl (895 kB)\n",
      "\u001b[K     |████████████████████████████████| 895 kB 41.6 MB/s \n",
      "\u001b[?25hCollecting tokenizers!=0.11.3,<0.13,>=0.11.1\n",
      "  Downloading tokenizers-0.12.1-cp37-cp37m-manylinux_2_12_x86_64.manylinux2010_x86_64.whl (6.6 MB)\n",
      "\u001b[K     |████████████████████████████████| 6.6 MB 31.5 MB/s \n",
      "\u001b[?25hRequirement already satisfied: packaging>=20.0 in /usr/local/lib/python3.7/dist-packages (from transformers) (21.3)\n",
      "Requirement already satisfied: tqdm>=4.27 in /usr/local/lib/python3.7/dist-packages (from transformers) (4.64.0)\n",
      "Requirement already satisfied: regex!=2019.12.17 in /usr/local/lib/python3.7/dist-packages (from transformers) (2019.12.20)\n",
      "Requirement already satisfied: importlib-metadata in /usr/local/lib/python3.7/dist-packages (from transformers) (4.11.3)\n",
      "Requirement already satisfied: filelock in /usr/local/lib/python3.7/dist-packages (from transformers) (3.6.0)\n",
      "Collecting huggingface-hub<1.0,>=0.1.0\n",
      "  Downloading huggingface_hub-0.5.1-py3-none-any.whl (77 kB)\n",
      "\u001b[K     |████████████████████████████████| 77 kB 5.9 MB/s \n",
      "\u001b[?25hRequirement already satisfied: requests in /usr/local/lib/python3.7/dist-packages (from transformers) (2.23.0)\n",
      "Requirement already satisfied: typing-extensions>=3.7.4.3 in /usr/local/lib/python3.7/dist-packages (from huggingface-hub<1.0,>=0.1.0->transformers) (4.2.0)\n",
      "Requirement already satisfied: pyparsing!=3.0.5,>=2.0.2 in /usr/local/lib/python3.7/dist-packages (from packaging>=20.0->transformers) (3.0.8)\n",
      "Requirement already satisfied: zipp>=0.5 in /usr/local/lib/python3.7/dist-packages (from importlib-metadata->transformers) (3.8.0)\n",
      "Requirement already satisfied: certifi>=2017.4.17 in /usr/local/lib/python3.7/dist-packages (from requests->transformers) (2021.10.8)\n",
      "Requirement already satisfied: idna<3,>=2.5 in /usr/local/lib/python3.7/dist-packages (from requests->transformers) (2.10)\n",
      "Requirement already satisfied: chardet<4,>=3.0.2 in /usr/local/lib/python3.7/dist-packages (from requests->transformers) (3.0.4)\n",
      "Requirement already satisfied: urllib3!=1.25.0,!=1.25.1,<1.26,>=1.21.1 in /usr/local/lib/python3.7/dist-packages (from requests->transformers) (1.24.3)\n",
      "Requirement already satisfied: click in /usr/local/lib/python3.7/dist-packages (from sacremoses->transformers) (7.1.2)\n",
      "Requirement already satisfied: joblib in /usr/local/lib/python3.7/dist-packages (from sacremoses->transformers) (1.1.0)\n",
      "Requirement already satisfied: six in /usr/local/lib/python3.7/dist-packages (from sacremoses->transformers) (1.15.0)\n",
      "Installing collected packages: pyyaml, tokenizers, sacremoses, huggingface-hub, transformers\n",
      "  Attempting uninstall: pyyaml\n",
      "    Found existing installation: PyYAML 3.13\n",
      "    Uninstalling PyYAML-3.13:\n",
      "      Successfully uninstalled PyYAML-3.13\n",
      "Successfully installed huggingface-hub-0.5.1 pyyaml-6.0 sacremoses-0.0.49 tokenizers-0.12.1 transformers-4.18.0\n"
     ]
    }
   ],
   "source": [
    "!pip install transformers"
   ]
  },
  {
   "cell_type": "code",
   "execution_count": 27,
   "metadata": {
    "executionInfo": {
     "elapsed": 1397,
     "status": "ok",
     "timestamp": 1650936987987,
     "user": {
      "displayName": "小·白菜",
      "userId": "11363145687516653892"
     },
     "user_tz": -480
    },
    "id": "he32063cjq5I"
   },
   "outputs": [],
   "source": [
    "import pandas as pd\n",
    "import nltk\n",
    "import re"
   ]
  },
  {
   "cell_type": "code",
   "execution_count": 28,
   "metadata": {
    "executionInfo": {
     "elapsed": 7,
     "status": "ok",
     "timestamp": 1650936987988,
     "user": {
      "displayName": "小·白菜",
      "userId": "11363145687516653892"
     },
     "user_tz": -480
    },
    "id": "_OU1y9AAjq5N"
   },
   "outputs": [],
   "source": [
    "def construct_dataset(filename):\n",
    "    corpus = []\n",
    "    sentence = []\n",
    "    labels = []\n",
    "    i = 0\n",
    "\n",
    "    with open(filename, 'r') as f:\n",
    "        for line in f.readlines():\n",
    "            line = line.strip('\\n')\n",
    "\n",
    "            if line:\n",
    "                word = line.split()[0]\n",
    "                sentence.append(word)\n",
    "                if line.split()[-1] == 'ARG1':\n",
    "                    labels.append(i) \n",
    "                i += 1\n",
    "            else:\n",
    "                sentence = ' '.join(sentence)\n",
    "                sentence = sentence.replace('COMMA', ',')\n",
    "                sentence = re.sub(r' +', ' ', sentence)\n",
    "                corpus.append(sentence)\n",
    "                sentence = []\n",
    "                i = 0\n",
    "        return corpus, labels"
   ]
  },
  {
   "cell_type": "code",
   "execution_count": 29,
   "metadata": {
    "executionInfo": {
     "elapsed": 287,
     "status": "ok",
     "timestamp": 1650936990880,
     "user": {
      "displayName": "小·白菜",
      "userId": "11363145687516653892"
     },
     "user_tz": -480
    },
    "id": "XYGfsbj0jq5O"
   },
   "outputs": [],
   "source": [
    "X_train, y_train = construct_dataset('Partitive-Files/%-training')\n",
    "X_dev, y_dev = construct_dataset('Partitive-Files/%-dev')\n",
    "X_test, y_test = construct_dataset('Partitive-Files/%-test')"
   ]
  },
  {
   "cell_type": "code",
   "execution_count": 7,
   "metadata": {
    "colab": {
     "base_uri": "https://localhost:8080/",
     "height": 154,
     "referenced_widgets": [
      "5db03e35853b4639af9fd83420b1af26",
      "5327dbe77cbc4867a2f47f97b6f739e4",
      "d63f1a69e26c4b1fb97c195da1f80f34",
      "be02aaf3994648d9a524fc914dc2d3dd",
      "79c0b6fce0274130bcf7f339897bf244",
      "dbbf68abd8574c6ca92c15028db8a8ff",
      "53fbbfbd01764591893d64043da8a3b8",
      "582f27da1abb4d6fb388aaa5b52ec321",
      "770e42c9556a446ea99d2b92eae171ae",
      "0acc7012091d482e84f16f40ed0e47b1",
      "4ef3558ee73a4759aff23e8515e6f1c2",
      "e41fd287a3954bd0972c8e1d19d74a00",
      "4cf320a353e34cdb8ce7cb2464e994f9",
      "7726fce5d4ee4121b8631133f4d90b04",
      "521d43138a914a73b9a996b1e8e6a879",
      "c65d295f474a4281b4b6969e3508e4b4",
      "ab872939bd77497b93873f11c9c7e956",
      "5f2b3a78f4204a689321749c3ff665cd",
      "9d033821121e4321ae03ef325c5eefbc",
      "a93ec33e515042b1a91255c2875c3353",
      "5f5e072ae134425fb74fb2bc3d557fad",
      "386d61062efe49bbac2106daf745aba7"
     ]
    },
    "executionInfo": {
     "elapsed": 24426,
     "status": "ok",
     "timestamp": 1650937016638,
     "user": {
      "displayName": "小·白菜",
      "userId": "11363145687516653892"
     },
     "user_tz": -480
    },
    "id": "WSSwraQtjq5P",
    "outputId": "ec8d4244-bf35-4d5c-93ec-1bfe11f95e8c"
   },
   "outputs": [
    {
     "data": {
      "application/vnd.jupyter.widget-view+json": {
       "model_id": "5db03e35853b4639af9fd83420b1af26",
       "version_major": 2,
       "version_minor": 0
      },
      "text/plain": [
       "Downloading:   0%|          | 0.00/570 [00:00<?, ?B/s]"
      ]
     },
     "metadata": {},
     "output_type": "display_data"
    },
    {
     "data": {
      "application/vnd.jupyter.widget-view+json": {
       "model_id": "e41fd287a3954bd0972c8e1d19d74a00",
       "version_major": 2,
       "version_minor": 0
      },
      "text/plain": [
       "Downloading:   0%|          | 0.00/420M [00:00<?, ?B/s]"
      ]
     },
     "metadata": {},
     "output_type": "display_data"
    },
    {
     "name": "stderr",
     "output_type": "stream",
     "text": [
      "Some weights of the model checkpoint at bert-base-uncased were not used when initializing BertModel: ['cls.predictions.bias', 'cls.seq_relationship.bias', 'cls.predictions.decoder.weight', 'cls.predictions.transform.LayerNorm.weight', 'cls.predictions.transform.dense.weight', 'cls.predictions.transform.dense.bias', 'cls.predictions.transform.LayerNorm.bias', 'cls.seq_relationship.weight']\n",
      "- This IS expected if you are initializing BertModel from the checkpoint of a model trained on another task or with another architecture (e.g. initializing a BertForSequenceClassification model from a BertForPreTraining model).\n",
      "- This IS NOT expected if you are initializing BertModel from the checkpoint of a model that you expect to be exactly identical (initializing a BertForSequenceClassification model from a BertForSequenceClassification model).\n"
     ]
    }
   ],
   "source": [
    "#load pretrained bert base model\n",
    "from transformers import BertModel\n",
    "bert_model = BertModel.from_pretrained('bert-base-uncased')"
   ]
  },
  {
   "cell_type": "code",
   "execution_count": 8,
   "metadata": {
    "colab": {
     "base_uri": "https://localhost:8080/"
    },
    "executionInfo": {
     "elapsed": 335,
     "status": "ok",
     "timestamp": 1650937016958,
     "user": {
      "displayName": "小·白菜",
      "userId": "11363145687516653892"
     },
     "user_tz": -480
    },
    "id": "NfdNYU_Fjq5P",
    "outputId": "be3079ac-7eb3-41da-d403-defb875c8d07"
   },
   "outputs": [
    {
     "name": "stdout",
     "output_type": "stream",
     "text": [
      "[nltk_data] Downloading package punkt to /root/nltk_data...\n",
      "[nltk_data]   Unzipping tokenizers/punkt.zip.\n"
     ]
    }
   ],
   "source": [
    "import torch\n",
    "from torch.utils.data import Dataset\n",
    "from transformers import BertTokenizer\n",
    "\n",
    "nltk.download('punkt')\n",
    "\n",
    "class MyDataset(Dataset):\n",
    "\n",
    "    def __init__(self, corpus, labels, maxlen):\n",
    "\n",
    "        self.corpus = corpus\n",
    "        self.labels = labels\n",
    "        \n",
    "        # initialize tokenizer\n",
    "        self.tokenizer = BertTokenizer.from_pretrained('bert-base-uncased')\n",
    "        self.maxlen = maxlen\n",
    "\n",
    "    def __len__(self):\n",
    "        return len(self.corpus)\n",
    "\n",
    "    def __getitem__(self, index):\n",
    "\n",
    "        sentence = self.corpus[index]\n",
    "        label = self.labels[index]\n",
    "\n",
    "        tokens = self.tokenizer.tokenize(sentence)\n",
    "        tokens = ['[CLS]'] + tokens + ['[SEP]']\n",
    "        if len(tokens) < self.maxlen:\n",
    "            tokens = tokens + ['[PAD]' for _ in range(self.maxlen - len(tokens))] \n",
    "        else:\n",
    "            tokens = tokens[:self.maxlen-1] + ['[SEP]']\n",
    "\n",
    "        tokens_ids = self.tokenizer.convert_tokens_to_ids(tokens)\n",
    "        tokens_ids_tensor = torch.tensor(tokens_ids)\n",
    "\n",
    "        attn_mask = (tokens_ids_tensor != 0).long()\n",
    "\n",
    "        return tokens_ids_tensor, attn_mask, label"
   ]
  },
  {
   "cell_type": "code",
   "execution_count": 9,
   "metadata": {
    "colab": {
     "base_uri": "https://localhost:8080/",
     "height": 81,
     "referenced_widgets": [
      "21a4352bbb8c41349f7dfd92148a9600",
      "b3f82a24479247409ca4b126a0c88267",
      "067b2b63895a4d74967fea95f87271b9",
      "3e5f482d3e854f709d71a017310dea6d",
      "9c51934fd2094f42bb9e8d9976d5557e",
      "4c89434864ba4d778eb4510392bb73d0",
      "e4ee0718832543c2a5dcf5146b0548f6",
      "15b2b9817f944884881cdda5d26b471c",
      "5c3ec7edeb1e47e8b24fa8f910b16642",
      "a993b3b908e741febc1100d8177f5f3c",
      "c33b53c84af4484a8f6f13bf467f5194",
      "c17b90c266954152aba17b32795d6577",
      "3302132ba08f4435940aefc95ec1251a",
      "0706e974612847a0827629f78239e96e",
      "fa05ced8bf2249758f39bacf3bde1615",
      "a4e05ea67c7f4b07804cf80adde235f6",
      "27230cc263d74ce6b261087f8acb5812",
      "fe36326827cd4cef8f731722d57d4f4b",
      "c2103d858b634747b9c9540a7469bcd0",
      "0af9a2e693a94a52961dac53a0e7d08d",
      "cfe3036bca094721b5d09e896b173f53",
      "10878e40369a4b2e9efddbd66b2871fb"
     ]
    },
    "executionInfo": {
     "elapsed": 2358,
     "status": "ok",
     "timestamp": 1650937019314,
     "user": {
      "displayName": "小·白菜",
      "userId": "11363145687516653892"
     },
     "user_tz": -480
    },
    "id": "N1I6Nc-ijq5R",
    "outputId": "955bc583-4f7c-4921-bfe7-402cd8e57d48"
   },
   "outputs": [
    {
     "data": {
      "application/vnd.jupyter.widget-view+json": {
       "model_id": "21a4352bbb8c41349f7dfd92148a9600",
       "version_major": 2,
       "version_minor": 0
      },
      "text/plain": [
       "Downloading:   0%|          | 0.00/226k [00:00<?, ?B/s]"
      ]
     },
     "metadata": {},
     "output_type": "display_data"
    },
    {
     "data": {
      "application/vnd.jupyter.widget-view+json": {
       "model_id": "c17b90c266954152aba17b32795d6577",
       "version_major": 2,
       "version_minor": 0
      },
      "text/plain": [
       "Downloading:   0%|          | 0.00/28.0 [00:00<?, ?B/s]"
      ]
     },
     "metadata": {},
     "output_type": "display_data"
    }
   ],
   "source": [
    "from torch.utils.data import DataLoader\n",
    "\n",
    "train_set = MyDataset(X_train, y_train, maxlen = 365)\n",
    "dev_set = MyDataset(X_dev, y_dev, maxlen = 365)\n",
    "\n",
    "train_loader = DataLoader(train_set, batch_size = 16, num_workers = 2)\n",
    "dev_loader = DataLoader(dev_set, batch_size = 16, num_workers = 2)"
   ]
  },
  {
   "cell_type": "code",
   "execution_count": 10,
   "metadata": {
    "executionInfo": {
     "elapsed": 11,
     "status": "ok",
     "timestamp": 1650937019316,
     "user": {
      "displayName": "小·白菜",
      "userId": "11363145687516653892"
     },
     "user_tz": -480
    },
    "id": "adXD57tFjq5S"
   },
   "outputs": [],
   "source": [
    "import torch\n",
    "import torch.nn as nn\n",
    "from transformers import BertModel\n",
    "\n",
    "class Arg1Classifier(nn.Module):\n",
    "\n",
    "    def __init__(self):\n",
    "        super(Arg1Classifier, self).__init__()\n",
    "        self.bert_layer = BertModel.from_pretrained('bert-base-uncased')\n",
    "        \n",
    "        self.cls_layer = nn.Linear(768, 365)\n",
    "\n",
    "    def forward(self, seq, attn_masks):\n",
    "\n",
    "        outputs = self.bert_layer(seq, attention_mask = attn_masks)\n",
    "        cont_reps = outputs.last_hidden_state\n",
    "\n",
    "        cls_rep = cont_reps[:, 0]\n",
    "\n",
    "        logits = self.cls_layer(cls_rep)\n",
    "\n",
    "        return logits"
   ]
  },
  {
   "cell_type": "code",
   "execution_count": 11,
   "metadata": {
    "colab": {
     "base_uri": "https://localhost:8080/"
    },
    "executionInfo": {
     "elapsed": 12862,
     "status": "ok",
     "timestamp": 1650937032168,
     "user": {
      "displayName": "小·白菜",
      "userId": "11363145687516653892"
     },
     "user_tz": -480
    },
    "id": "z0TLi30Ejq5T",
    "outputId": "52c031de-c2c2-4fea-e514-e1b74328d078"
   },
   "outputs": [
    {
     "name": "stdout",
     "output_type": "stream",
     "text": [
      "Creating classifier, initialised with pretrained BERT-BASE parameters...\n"
     ]
    },
    {
     "name": "stderr",
     "output_type": "stream",
     "text": [
      "Some weights of the model checkpoint at bert-base-uncased were not used when initializing BertModel: ['cls.predictions.bias', 'cls.seq_relationship.bias', 'cls.predictions.decoder.weight', 'cls.predictions.transform.LayerNorm.weight', 'cls.predictions.transform.dense.weight', 'cls.predictions.transform.dense.bias', 'cls.predictions.transform.LayerNorm.bias', 'cls.seq_relationship.weight']\n",
      "- This IS expected if you are initializing BertModel from the checkpoint of a model trained on another task or with another architecture (e.g. initializing a BertForSequenceClassification model from a BertForPreTraining model).\n",
      "- This IS NOT expected if you are initializing BertModel from the checkpoint of a model that you expect to be exactly identical (initializing a BertForSequenceClassification model from a BertForSequenceClassification model).\n"
     ]
    },
    {
     "name": "stdout",
     "output_type": "stream",
     "text": [
      "Done creating classifier.\n"
     ]
    }
   ],
   "source": [
    "gpu = 0\n",
    "\n",
    "print(\"Creating classifier, initialised with pretrained BERT-BASE parameters...\")\n",
    "net = Arg1Classifier()\n",
    "net.cuda(gpu)\n",
    "print(\"Done creating classifier.\")"
   ]
  },
  {
   "cell_type": "code",
   "execution_count": 12,
   "metadata": {
    "executionInfo": {
     "elapsed": 13,
     "status": "ok",
     "timestamp": 1650937032168,
     "user": {
      "displayName": "小·白菜",
      "userId": "11363145687516653892"
     },
     "user_tz": -480
    },
    "id": "WaGdiQBHjq5U"
   },
   "outputs": [],
   "source": [
    "import torch.nn as nn\n",
    "import torch.optim as optim\n",
    "\n",
    "criterion = nn.CrossEntropyLoss()\n",
    "opti = optim.Adam(net.parameters(), lr = 2e-5)"
   ]
  },
  {
   "cell_type": "code",
   "execution_count": 13,
   "metadata": {
    "executionInfo": {
     "elapsed": 12,
     "status": "ok",
     "timestamp": 1650937032169,
     "user": {
      "displayName": "小·白菜",
      "userId": "11363145687516653892"
     },
     "user_tz": -480
    },
    "id": "N8F7NCZQjq5U"
   },
   "outputs": [],
   "source": [
    "import time\n",
    "\n",
    "def train(net, criterion, opti, train_loader, dev_loader, max_eps, gpu):\n",
    "\n",
    "    best_acc = 0\n",
    "    st = time.time()\n",
    "    best_net = None\n",
    "    for ep in range(max_eps):\n",
    "        \n",
    "        for it, (seq, attn_masks, labels) in enumerate(train_loader):\n",
    "\n",
    "            opti.zero_grad()  \n",
    "\n",
    "            seq, attn_masks, labels = seq.cuda(gpu), attn_masks.cuda(gpu), labels.cuda(gpu)\n",
    "\n",
    "            logits = net(seq, attn_masks)\n",
    "\n",
    "            loss = criterion(logits.squeeze(-1), labels)\n",
    "\n",
    "            loss.backward()\n",
    "\n",
    "            opti.step()\n",
    "              \n",
    "            if it % 10 == 0:\n",
    "                \n",
    "                acc = get_accuracy_from_logits(logits, labels)\n",
    "                print(\"Iteration {} of epoch {} complete. Loss: {}; Accuracy: {}; Time taken (s): {}\".format(it, ep+1, loss.item(), acc, (time.time()-st)))\n",
    "                st = time.time()\n",
    "\n",
    "        \n",
    "        dev_acc, dev_loss = evaluate(net, criterion, dev_loader, gpu)\n",
    "        print(\"Epoch {} complete! Development Accuracy: {}; Development Loss: {}\".format(ep+1, dev_acc, dev_loss))\n",
    "        if dev_acc > best_acc:\n",
    "            print(\"Best development accuracy improved from {} to {}, saving model...\".format(best_acc, dev_acc))\n",
    "            best_acc = dev_acc\n",
    "            best_net = net\n",
    "            torch.save(net.state_dict(), 'sstcls_{}.dat'.format(ep+1))\n",
    "    return best_net"
   ]
  },
  {
   "cell_type": "code",
   "execution_count": 14,
   "metadata": {
    "executionInfo": {
     "elapsed": 12,
     "status": "ok",
     "timestamp": 1650937032170,
     "user": {
      "displayName": "小·白菜",
      "userId": "11363145687516653892"
     },
     "user_tz": -480
    },
    "id": "iPPP6VXejq5V"
   },
   "outputs": [],
   "source": [
    "def get_accuracy_from_logits(logits, labels):\n",
    "    preds = logits.argmax(dim=1)\n",
    "    acc = (preds == labels).float().mean()\n",
    "    return acc\n",
    "\n",
    "def evaluate(net, criterion, dataloader, gpu):\n",
    "    net.eval()\n",
    "\n",
    "    mean_acc, mean_loss = 0, 0\n",
    "    count = 0\n",
    "\n",
    "    with torch.no_grad():\n",
    "        for seq, attn_masks, labels in dataloader:\n",
    "            seq, attn_masks, labels = seq.cuda(gpu), attn_masks.cuda(gpu), labels.cuda(gpu)\n",
    "            logits = net(seq, attn_masks)\n",
    "            mean_loss += criterion(logits.squeeze(-1), labels).item()\n",
    "            mean_acc += get_accuracy_from_logits(logits, labels)\n",
    "            count += 1\n",
    "\n",
    "    return mean_acc / count, mean_loss / count"
   ]
  },
  {
   "cell_type": "code",
   "execution_count": 16,
   "metadata": {},
   "outputs": [
    {
     "name": "stdout",
     "output_type": "stream",
     "text": [
      "Iteration 0 of epoch 1 complete. Loss: 6.0439958572387695; Accuracy: 0.0; Time taken (s): 2.0652999877929688\n",
      "Iteration 10 of epoch 1 complete. Loss: 5.485254287719727; Accuracy: 0.0625; Time taken (s): 17.293299913406372\n",
      "Iteration 20 of epoch 1 complete. Loss: 4.936914920806885; Accuracy: 0.0625; Time taken (s): 17.40561008453369\n",
      "Iteration 30 of epoch 1 complete. Loss: 4.8218159675598145; Accuracy: 0.0; Time taken (s): 17.555779218673706\n",
      "Iteration 40 of epoch 1 complete. Loss: 4.141035079956055; Accuracy: 0.25; Time taken (s): 17.63670802116394\n",
      "Iteration 50 of epoch 1 complete. Loss: 4.110598564147949; Accuracy: 0.125; Time taken (s): 17.814321041107178\n",
      "Iteration 60 of epoch 1 complete. Loss: 3.7476682662963867; Accuracy: 0.3125; Time taken (s): 17.931143760681152\n",
      "Iteration 70 of epoch 1 complete. Loss: 3.527723550796509; Accuracy: 0.0625; Time taken (s): 17.965851306915283\n",
      "Iteration 80 of epoch 1 complete. Loss: 4.174516677856445; Accuracy: 0.0; Time taken (s): 17.929684162139893\n",
      "Iteration 90 of epoch 1 complete. Loss: 4.013532638549805; Accuracy: 0.125; Time taken (s): 17.964742422103882\n",
      "Iteration 100 of epoch 1 complete. Loss: 3.7794113159179688; Accuracy: 0.125; Time taken (s): 17.937638759613037\n",
      "Iteration 110 of epoch 1 complete. Loss: 2.948352575302124; Accuracy: 0.4375; Time taken (s): 17.932781457901\n",
      "Iteration 120 of epoch 1 complete. Loss: 3.734863519668579; Accuracy: 0.0; Time taken (s): 17.94607663154602\n",
      "Iteration 130 of epoch 1 complete. Loss: 4.2249531745910645; Accuracy: 0.0; Time taken (s): 17.927136182785034\n",
      "Iteration 140 of epoch 1 complete. Loss: 3.588465452194214; Accuracy: 0.125; Time taken (s): 17.938246488571167\n",
      "Epoch 1 complete! Development Accuracy: 0.2118055671453476; Development Loss: 3.1799137194951377\n",
      "Best development accuracy improved from 0 to 0.2118055671453476, saving model...\n",
      "Iteration 0 of epoch 2 complete. Loss: 3.37444806098938; Accuracy: 0.0625; Time taken (s): 19.381051301956177\n",
      "Iteration 10 of epoch 2 complete. Loss: 3.299234390258789; Accuracy: 0.3125; Time taken (s): 17.898224353790283\n",
      "Iteration 20 of epoch 2 complete. Loss: 3.0038018226623535; Accuracy: 0.125; Time taken (s): 17.90708637237549\n",
      "Iteration 30 of epoch 2 complete. Loss: 3.3282368183135986; Accuracy: 0.1875; Time taken (s): 17.92166781425476\n",
      "Iteration 40 of epoch 2 complete. Loss: 2.898707389831543; Accuracy: 0.25; Time taken (s): 17.901942491531372\n",
      "Iteration 50 of epoch 2 complete. Loss: 3.249908447265625; Accuracy: 0.1875; Time taken (s): 17.898507356643677\n",
      "Iteration 60 of epoch 2 complete. Loss: 2.7918007373809814; Accuracy: 0.375; Time taken (s): 17.893418073654175\n",
      "Iteration 70 of epoch 2 complete. Loss: 1.9581294059753418; Accuracy: 0.625; Time taken (s): 17.90090322494507\n",
      "Iteration 80 of epoch 2 complete. Loss: 3.2385613918304443; Accuracy: 0.375; Time taken (s): 17.92076325416565\n",
      "Iteration 90 of epoch 2 complete. Loss: 3.2294859886169434; Accuracy: 0.1875; Time taken (s): 17.899531364440918\n",
      "Iteration 100 of epoch 2 complete. Loss: 2.666262149810791; Accuracy: 0.375; Time taken (s): 17.91183614730835\n",
      "Iteration 110 of epoch 2 complete. Loss: 2.130218267440796; Accuracy: 0.5; Time taken (s): 17.90306067466736\n",
      "Iteration 120 of epoch 2 complete. Loss: 3.205714225769043; Accuracy: 0.0625; Time taken (s): 17.925564765930176\n",
      "Iteration 130 of epoch 2 complete. Loss: 3.608342409133911; Accuracy: 0.0; Time taken (s): 17.90321397781372\n",
      "Iteration 140 of epoch 2 complete. Loss: 2.8457350730895996; Accuracy: 0.1875; Time taken (s): 17.910736083984375\n",
      "Epoch 2 complete! Development Accuracy: 0.35849234823094829; Development Loss: 2.713446100552877\n",
      "Best development accuracy improved from 0.2118055671453476 to 0.35849234823094829, saving model...\n",
      "Iteration 0 of epoch 3 complete. Loss: 2.576616048812866; Accuracy: 0.375; Time taken (s): 19.540605545043945\n",
      "Iteration 10 of epoch 3 complete. Loss: 2.313185691833496; Accuracy: 0.4375; Time taken (s): 17.823582649230957\n",
      "Iteration 20 of epoch 3 complete. Loss: 2.2414627075195312; Accuracy: 0.375; Time taken (s): 17.907954216003418\n",
      "Iteration 30 of epoch 3 complete. Loss: 2.7095346450805664; Accuracy: 0.3125; Time taken (s): 17.903226137161255\n",
      "Iteration 40 of epoch 3 complete. Loss: 2.245840072631836; Accuracy: 0.5; Time taken (s): 17.928321599960327\n",
      "Iteration 50 of epoch 3 complete. Loss: 2.4878697395324707; Accuracy: 0.375; Time taken (s): 17.9308762550354\n",
      "Iteration 60 of epoch 3 complete. Loss: 2.157757520675659; Accuracy: 0.3125; Time taken (s): 17.914650917053223\n",
      "Iteration 70 of epoch 3 complete. Loss: 1.523864507675171; Accuracy: 0.625; Time taken (s): 17.919893503189087\n",
      "Iteration 80 of epoch 3 complete. Loss: 2.656606674194336; Accuracy: 0.3125; Time taken (s): 17.887922286987305\n",
      "Iteration 90 of epoch 3 complete. Loss: 2.9110753536224365; Accuracy: 0.1875; Time taken (s): 17.927419662475586\n",
      "Iteration 100 of epoch 3 complete. Loss: 2.1585309505462646; Accuracy: 0.4375; Time taken (s): 17.918148517608643\n",
      "Iteration 110 of epoch 3 complete. Loss: 1.7372088432312012; Accuracy: 0.5; Time taken (s): 17.902605295181274\n",
      "Iteration 120 of epoch 3 complete. Loss: 2.4060142040252686; Accuracy: 0.5625; Time taken (s): 17.926244258880615\n",
      "Iteration 130 of epoch 3 complete. Loss: 3.128462791442871; Accuracy: 0.0625; Time taken (s): 17.91583251953125\n",
      "Iteration 140 of epoch 3 complete. Loss: 2.2213218212127686; Accuracy: 0.4375; Time taken (s): 17.94109797477722\n",
      "Epoch 3 complete! Development Accuracy: 0.5641028402938028; Development Loss: 2.1925957759221396\n",
      "Best development accuracy improved from 0.35849234823094829 to 0.5641028402938028, saving model...\n",
      "Iteration 0 of epoch 4 complete. Loss: 1.991152048110962; Accuracy: 0.625; Time taken (s): 19.500715970993042\n",
      "Iteration 10 of epoch 4 complete. Loss: 1.7240110635757446; Accuracy: 0.6875; Time taken (s): 17.892080545425415\n",
      "Iteration 20 of epoch 4 complete. Loss: 1.6303151845932007; Accuracy: 0.625; Time taken (s): 17.84549307823181\n",
      "Iteration 30 of epoch 4 complete. Loss: 2.1525826454162598; Accuracy: 0.3125; Time taken (s): 17.840378999710083\n",
      "Iteration 40 of epoch 4 complete. Loss: 1.736086130142212; Accuracy: 0.5625; Time taken (s): 17.90879487991333\n",
      "Iteration 50 of epoch 4 complete. Loss: 1.8481028079986572; Accuracy: 0.75; Time taken (s): 17.89132285118103\n",
      "Iteration 60 of epoch 4 complete. Loss: 1.7034673690795898; Accuracy: 0.6875; Time taken (s): 17.911670207977295\n",
      "Iteration 70 of epoch 4 complete. Loss: 1.172952651977539; Accuracy: 0.75; Time taken (s): 17.895365476608276\n",
      "Iteration 80 of epoch 4 complete. Loss: 2.1267802715301514; Accuracy: 0.5; Time taken (s): 17.883644342422485\n",
      "Iteration 90 of epoch 4 complete. Loss: 2.0037689208984375; Accuracy: 0.5625; Time taken (s): 17.938413858413696\n",
      "Iteration 100 of epoch 4 complete. Loss: 1.5420457124710083; Accuracy: 0.8125; Time taken (s): 17.912261247634888\n",
      "Iteration 110 of epoch 4 complete. Loss: 1.6214261054992676; Accuracy: 0.6875; Time taken (s): 17.93276357650757\n",
      "Iteration 120 of epoch 4 complete. Loss: 1.7474268674850464; Accuracy: 0.625; Time taken (s): 17.894490003585815\n",
      "Iteration 130 of epoch 4 complete. Loss: 2.346707344055176; Accuracy: 0.4375; Time taken (s): 17.930540084838867\n",
      "Iteration 140 of epoch 4 complete. Loss: 1.8662770986557007; Accuracy: 0.5625; Time taken (s): 17.842559814453125\n",
      "Epoch 4 complete! Development Accuracy: 0.7341289348239472; Development Loss: 1.64289328409809\n",
      "Best development accuracy improved from 0.5641028402938028 to 0.7341289348239472, saving model...\n",
      "Iteration 0 of epoch 5 complete. Loss: 1.226460576057434; Accuracy: 0.8125; Time taken (s): 18.088587045669556\n",
      "Iteration 10 of epoch 5 complete. Loss: 1.23102867603302; Accuracy: 0.75; Time taken (s): 17.910884380340576\n",
      "Iteration 20 of epoch 5 complete. Loss: 1.1197319030761719; Accuracy: 0.875; Time taken (s): 17.92369508743286\n",
      "Iteration 30 of epoch 5 complete. Loss: 1.5197889804840088; Accuracy: 0.75; Time taken (s): 17.916698455810547\n",
      "Iteration 40 of epoch 5 complete. Loss: 1.1488080024719238; Accuracy: 0.875; Time taken (s): 17.931105136871338\n",
      "Iteration 50 of epoch 5 complete. Loss: 1.044348120689392; Accuracy: 1.0; Time taken (s): 17.906318187713623\n",
      "Iteration 60 of epoch 5 complete. Loss: 1.1497764587402344; Accuracy: 0.75; Time taken (s): 17.908186197280884\n",
      "Iteration 70 of epoch 5 complete. Loss: 0.8193283677101135; Accuracy: 0.8125; Time taken (s): 17.933680534362793\n",
      "Iteration 80 of epoch 5 complete. Loss: 1.4971035718917847; Accuracy: 0.8125; Time taken (s): 17.911471843719482\n",
      "Iteration 90 of epoch 5 complete. Loss: 1.202480673789978; Accuracy: 0.8125; Time taken (s): 17.94106960296631\n",
      "Iteration 100 of epoch 5 complete. Loss: 1.070223093032837; Accuracy: 0.75; Time taken (s): 17.95039677619934\n",
      "Iteration 110 of epoch 5 complete. Loss: 1.069303274154663; Accuracy: 0.8125; Time taken (s): 17.92677593231201\n",
      "Iteration 120 of epoch 5 complete. Loss: 1.0531284809112549; Accuracy: 0.875; Time taken (s): 17.916537284851074\n",
      "Iteration 130 of epoch 5 complete. Loss: 1.3431620597839355; Accuracy: 0.8125; Time taken (s): 17.906932830810547\n",
      "Iteration 140 of epoch 5 complete. Loss: 1.2341188192367554; Accuracy: 0.6875; Time taken (s): 17.95630407333374\n",
      "Epoch 5 complete! Development Accuracy: 0.8812903812903812; Development Loss: 1.323849023849238\n",
      "Best development accuracy improved from 0.7341289348239472 to 0.8812903812903812, saving model...\n"
     ]
    }
   ],
   "source": [
    "num_epoch = 5\n",
    "\n",
    "best_net = train(net, criterion, opti, train_loader, dev_loader, num_epoch, gpu)"
   ]
  },
  {
   "cell_type": "code",
   "execution_count": 16,
   "metadata": {
    "executionInfo": {
     "elapsed": 1051,
     "status": "ok",
     "timestamp": 1650938452805,
     "user": {
      "displayName": "小·白菜",
      "userId": "11363145687516653892"
     },
     "user_tz": -480
    },
    "id": "AYPDq4QLxsw1"
   },
   "outputs": [],
   "source": [
    "test_set = MyDataset(X_test, y_test, maxlen = 365)\n",
    "test_loader = DataLoader(test_set, batch_size = 16, num_workers = 2)"
   ]
  },
  {
   "cell_type": "code",
   "execution_count": 17,
   "metadata": {
    "executionInfo": {
     "elapsed": 6984,
     "status": "ok",
     "timestamp": 1650938461055,
     "user": {
      "displayName": "小·白菜",
      "userId": "11363145687516653892"
     },
     "user_tz": -480
    },
    "id": "JgFHAleGxssf"
   },
   "outputs": [],
   "source": [
    "test_acc, test_loss = evaluate(best_net, criterion, test_loader, gpu)"
   ]
  },
  {
   "cell_type": "code",
   "execution_count": 29,
   "metadata": {
    "executionInfo": {
     "elapsed": 4,
     "status": "ok",
     "timestamp": 1650938755765,
     "user": {
      "displayName": "小·白菜",
      "userId": "11363145687516653892"
     },
     "user_tz": -480
    },
    "id": "iGbSndU0ma5n"
   },
   "outputs": [],
   "source": [
    "def predict(net, dataloader, gpu):\n",
    "    net.eval()\n",
    "\n",
    "    y_preds = []\n",
    "    with torch.no_grad():\n",
    "        for seq, attn_masks, labels in dataloader:\n",
    "            seq, attn_masks = seq.cuda(gpu), attn_masks.cuda(gpu)\n",
    "            logits = net(seq, attn_masks).squeeze()\n",
    "            y_pred = logits.argmax(dim=1).tolist()\n",
    "            y_preds += y_pred\n",
    "\n",
    "    return y_preds"
   ]
  },
  {
   "cell_type": "code",
   "execution_count": 30,
   "metadata": {
    "executionInfo": {
     "elapsed": 6739,
     "status": "ok",
     "timestamp": 1650938763334,
     "user": {
      "displayName": "小·白菜",
      "userId": "11363145687516653892"
     },
     "user_tz": -480
    },
    "id": "60ou10Y1mxfO"
   },
   "outputs": [],
   "source": [
    "preds = predict(best_net, test_loader, gpu)"
   ]
  },
  {
   "cell_type": "code",
   "execution_count": 26,
   "metadata": {
    "executionInfo": {
     "elapsed": 329,
     "status": "ok",
     "timestamp": 1650938880040,
     "user": {
      "displayName": "小·白菜",
      "userId": "11363145687516653892"
     },
     "user_tz": -480
    },
    "id": "c-zy3vaTne0D"
   },
   "outputs": [],
   "source": [
    "results = []\n",
    "i = 0\n",
    "j = 0\n",
    "with open('Partitive-Files/%-test', 'r') as f:\n",
    "    for line in f.readlines():\n",
    "        line = line.strip('\\n')\n",
    "        line_split = line.split('\\t')\n",
    "        if line_split and line_split[-1] == 'ARG1':\n",
    "            line_split = line_split[:-1]\n",
    "        if preds[j] == i:\n",
    "            line_split.append('ARG1')\n",
    "        i += 1\n",
    "        if not line_split:\n",
    "            i = 0\n",
    "            j += 1\n",
    "        results.append('\\t'.join(line_split) + '\\n')\n",
    "\n",
    "with open('partitive.txt', 'w') as f:\n",
    "    f.write(results)"
   ]
  }
 ],
 "metadata": {
  "accelerator": "GPU",
  "colab": {
   "collapsed_sections": [],
   "name": "code.ipynb",
   "provenance": []
  },
  "kernelspec": {
   "display_name": "Python 3",
   "language": "python",
   "name": "python3"
  },
  "language_info": {
   "codemirror_mode": {
    "name": "ipython",
    "version": 3
   },
   "file_extension": ".py",
   "mimetype": "text/x-python",
   "name": "python",
   "nbconvert_exporter": "python",
   "pygments_lexer": "ipython3",
   "version": "3.7.7"
  },
  "widgets": {
   "application/vnd.jupyter.widget-state+json": {
    "067b2b63895a4d74967fea95f87271b9": {
     "model_module": "@jupyter-widgets/controls",
     "model_module_version": "1.5.0",
     "model_name": "FloatProgressModel",
     "state": {
      "_dom_classes": [],
      "_model_module": "@jupyter-widgets/controls",
      "_model_module_version": "1.5.0",
      "_model_name": "FloatProgressModel",
      "_view_count": null,
      "_view_module": "@jupyter-widgets/controls",
      "_view_module_version": "1.5.0",
      "_view_name": "ProgressView",
      "bar_style": "success",
      "description": "",
      "description_tooltip": null,
      "layout": "IPY_MODEL_15b2b9817f944884881cdda5d26b471c",
      "max": 231508,
      "min": 0,
      "orientation": "horizontal",
      "style": "IPY_MODEL_5c3ec7edeb1e47e8b24fa8f910b16642",
      "value": 231508
     }
    },
    "0706e974612847a0827629f78239e96e": {
     "model_module": "@jupyter-widgets/controls",
     "model_module_version": "1.5.0",
     "model_name": "FloatProgressModel",
     "state": {
      "_dom_classes": [],
      "_model_module": "@jupyter-widgets/controls",
      "_model_module_version": "1.5.0",
      "_model_name": "FloatProgressModel",
      "_view_count": null,
      "_view_module": "@jupyter-widgets/controls",
      "_view_module_version": "1.5.0",
      "_view_name": "ProgressView",
      "bar_style": "success",
      "description": "",
      "description_tooltip": null,
      "layout": "IPY_MODEL_c2103d858b634747b9c9540a7469bcd0",
      "max": 28,
      "min": 0,
      "orientation": "horizontal",
      "style": "IPY_MODEL_0af9a2e693a94a52961dac53a0e7d08d",
      "value": 28
     }
    },
    "0acc7012091d482e84f16f40ed0e47b1": {
     "model_module": "@jupyter-widgets/base",
     "model_module_version": "1.2.0",
     "model_name": "LayoutModel",
     "state": {
      "_model_module": "@jupyter-widgets/base",
      "_model_module_version": "1.2.0",
      "_model_name": "LayoutModel",
      "_view_count": null,
      "_view_module": "@jupyter-widgets/base",
      "_view_module_version": "1.2.0",
      "_view_name": "LayoutView",
      "align_content": null,
      "align_items": null,
      "align_self": null,
      "border": null,
      "bottom": null,
      "display": null,
      "flex": null,
      "flex_flow": null,
      "grid_area": null,
      "grid_auto_columns": null,
      "grid_auto_flow": null,
      "grid_auto_rows": null,
      "grid_column": null,
      "grid_gap": null,
      "grid_row": null,
      "grid_template_areas": null,
      "grid_template_columns": null,
      "grid_template_rows": null,
      "height": null,
      "justify_content": null,
      "justify_items": null,
      "left": null,
      "margin": null,
      "max_height": null,
      "max_width": null,
      "min_height": null,
      "min_width": null,
      "object_fit": null,
      "object_position": null,
      "order": null,
      "overflow": null,
      "overflow_x": null,
      "overflow_y": null,
      "padding": null,
      "right": null,
      "top": null,
      "visibility": null,
      "width": null
     }
    },
    "0af9a2e693a94a52961dac53a0e7d08d": {
     "model_module": "@jupyter-widgets/controls",
     "model_module_version": "1.5.0",
     "model_name": "ProgressStyleModel",
     "state": {
      "_model_module": "@jupyter-widgets/controls",
      "_model_module_version": "1.5.0",
      "_model_name": "ProgressStyleModel",
      "_view_count": null,
      "_view_module": "@jupyter-widgets/base",
      "_view_module_version": "1.2.0",
      "_view_name": "StyleView",
      "bar_color": null,
      "description_width": ""
     }
    },
    "10878e40369a4b2e9efddbd66b2871fb": {
     "model_module": "@jupyter-widgets/controls",
     "model_module_version": "1.5.0",
     "model_name": "DescriptionStyleModel",
     "state": {
      "_model_module": "@jupyter-widgets/controls",
      "_model_module_version": "1.5.0",
      "_model_name": "DescriptionStyleModel",
      "_view_count": null,
      "_view_module": "@jupyter-widgets/base",
      "_view_module_version": "1.2.0",
      "_view_name": "StyleView",
      "description_width": ""
     }
    },
    "15b2b9817f944884881cdda5d26b471c": {
     "model_module": "@jupyter-widgets/base",
     "model_module_version": "1.2.0",
     "model_name": "LayoutModel",
     "state": {
      "_model_module": "@jupyter-widgets/base",
      "_model_module_version": "1.2.0",
      "_model_name": "LayoutModel",
      "_view_count": null,
      "_view_module": "@jupyter-widgets/base",
      "_view_module_version": "1.2.0",
      "_view_name": "LayoutView",
      "align_content": null,
      "align_items": null,
      "align_self": null,
      "border": null,
      "bottom": null,
      "display": null,
      "flex": null,
      "flex_flow": null,
      "grid_area": null,
      "grid_auto_columns": null,
      "grid_auto_flow": null,
      "grid_auto_rows": null,
      "grid_column": null,
      "grid_gap": null,
      "grid_row": null,
      "grid_template_areas": null,
      "grid_template_columns": null,
      "grid_template_rows": null,
      "height": null,
      "justify_content": null,
      "justify_items": null,
      "left": null,
      "margin": null,
      "max_height": null,
      "max_width": null,
      "min_height": null,
      "min_width": null,
      "object_fit": null,
      "object_position": null,
      "order": null,
      "overflow": null,
      "overflow_x": null,
      "overflow_y": null,
      "padding": null,
      "right": null,
      "top": null,
      "visibility": null,
      "width": null
     }
    },
    "21a4352bbb8c41349f7dfd92148a9600": {
     "model_module": "@jupyter-widgets/controls",
     "model_module_version": "1.5.0",
     "model_name": "HBoxModel",
     "state": {
      "_dom_classes": [],
      "_model_module": "@jupyter-widgets/controls",
      "_model_module_version": "1.5.0",
      "_model_name": "HBoxModel",
      "_view_count": null,
      "_view_module": "@jupyter-widgets/controls",
      "_view_module_version": "1.5.0",
      "_view_name": "HBoxView",
      "box_style": "",
      "children": [
       "IPY_MODEL_b3f82a24479247409ca4b126a0c88267",
       "IPY_MODEL_067b2b63895a4d74967fea95f87271b9",
       "IPY_MODEL_3e5f482d3e854f709d71a017310dea6d"
      ],
      "layout": "IPY_MODEL_9c51934fd2094f42bb9e8d9976d5557e"
     }
    },
    "27230cc263d74ce6b261087f8acb5812": {
     "model_module": "@jupyter-widgets/base",
     "model_module_version": "1.2.0",
     "model_name": "LayoutModel",
     "state": {
      "_model_module": "@jupyter-widgets/base",
      "_model_module_version": "1.2.0",
      "_model_name": "LayoutModel",
      "_view_count": null,
      "_view_module": "@jupyter-widgets/base",
      "_view_module_version": "1.2.0",
      "_view_name": "LayoutView",
      "align_content": null,
      "align_items": null,
      "align_self": null,
      "border": null,
      "bottom": null,
      "display": null,
      "flex": null,
      "flex_flow": null,
      "grid_area": null,
      "grid_auto_columns": null,
      "grid_auto_flow": null,
      "grid_auto_rows": null,
      "grid_column": null,
      "grid_gap": null,
      "grid_row": null,
      "grid_template_areas": null,
      "grid_template_columns": null,
      "grid_template_rows": null,
      "height": null,
      "justify_content": null,
      "justify_items": null,
      "left": null,
      "margin": null,
      "max_height": null,
      "max_width": null,
      "min_height": null,
      "min_width": null,
      "object_fit": null,
      "object_position": null,
      "order": null,
      "overflow": null,
      "overflow_x": null,
      "overflow_y": null,
      "padding": null,
      "right": null,
      "top": null,
      "visibility": null,
      "width": null
     }
    },
    "3302132ba08f4435940aefc95ec1251a": {
     "model_module": "@jupyter-widgets/controls",
     "model_module_version": "1.5.0",
     "model_name": "HTMLModel",
     "state": {
      "_dom_classes": [],
      "_model_module": "@jupyter-widgets/controls",
      "_model_module_version": "1.5.0",
      "_model_name": "HTMLModel",
      "_view_count": null,
      "_view_module": "@jupyter-widgets/controls",
      "_view_module_version": "1.5.0",
      "_view_name": "HTMLView",
      "description": "",
      "description_tooltip": null,
      "layout": "IPY_MODEL_27230cc263d74ce6b261087f8acb5812",
      "placeholder": "​",
      "style": "IPY_MODEL_fe36326827cd4cef8f731722d57d4f4b",
      "value": "Downloading: 100%"
     }
    },
    "386d61062efe49bbac2106daf745aba7": {
     "model_module": "@jupyter-widgets/controls",
     "model_module_version": "1.5.0",
     "model_name": "DescriptionStyleModel",
     "state": {
      "_model_module": "@jupyter-widgets/controls",
      "_model_module_version": "1.5.0",
      "_model_name": "DescriptionStyleModel",
      "_view_count": null,
      "_view_module": "@jupyter-widgets/base",
      "_view_module_version": "1.2.0",
      "_view_name": "StyleView",
      "description_width": ""
     }
    },
    "3e5f482d3e854f709d71a017310dea6d": {
     "model_module": "@jupyter-widgets/controls",
     "model_module_version": "1.5.0",
     "model_name": "HTMLModel",
     "state": {
      "_dom_classes": [],
      "_model_module": "@jupyter-widgets/controls",
      "_model_module_version": "1.5.0",
      "_model_name": "HTMLModel",
      "_view_count": null,
      "_view_module": "@jupyter-widgets/controls",
      "_view_module_version": "1.5.0",
      "_view_name": "HTMLView",
      "description": "",
      "description_tooltip": null,
      "layout": "IPY_MODEL_a993b3b908e741febc1100d8177f5f3c",
      "placeholder": "​",
      "style": "IPY_MODEL_c33b53c84af4484a8f6f13bf467f5194",
      "value": " 226k/226k [00:00&lt;00:00, 1.02MB/s]"
     }
    },
    "4c89434864ba4d778eb4510392bb73d0": {
     "model_module": "@jupyter-widgets/base",
     "model_module_version": "1.2.0",
     "model_name": "LayoutModel",
     "state": {
      "_model_module": "@jupyter-widgets/base",
      "_model_module_version": "1.2.0",
      "_model_name": "LayoutModel",
      "_view_count": null,
      "_view_module": "@jupyter-widgets/base",
      "_view_module_version": "1.2.0",
      "_view_name": "LayoutView",
      "align_content": null,
      "align_items": null,
      "align_self": null,
      "border": null,
      "bottom": null,
      "display": null,
      "flex": null,
      "flex_flow": null,
      "grid_area": null,
      "grid_auto_columns": null,
      "grid_auto_flow": null,
      "grid_auto_rows": null,
      "grid_column": null,
      "grid_gap": null,
      "grid_row": null,
      "grid_template_areas": null,
      "grid_template_columns": null,
      "grid_template_rows": null,
      "height": null,
      "justify_content": null,
      "justify_items": null,
      "left": null,
      "margin": null,
      "max_height": null,
      "max_width": null,
      "min_height": null,
      "min_width": null,
      "object_fit": null,
      "object_position": null,
      "order": null,
      "overflow": null,
      "overflow_x": null,
      "overflow_y": null,
      "padding": null,
      "right": null,
      "top": null,
      "visibility": null,
      "width": null
     }
    },
    "4cf320a353e34cdb8ce7cb2464e994f9": {
     "model_module": "@jupyter-widgets/controls",
     "model_module_version": "1.5.0",
     "model_name": "HTMLModel",
     "state": {
      "_dom_classes": [],
      "_model_module": "@jupyter-widgets/controls",
      "_model_module_version": "1.5.0",
      "_model_name": "HTMLModel",
      "_view_count": null,
      "_view_module": "@jupyter-widgets/controls",
      "_view_module_version": "1.5.0",
      "_view_name": "HTMLView",
      "description": "",
      "description_tooltip": null,
      "layout": "IPY_MODEL_ab872939bd77497b93873f11c9c7e956",
      "placeholder": "​",
      "style": "IPY_MODEL_5f2b3a78f4204a689321749c3ff665cd",
      "value": "Downloading: 100%"
     }
    },
    "4ef3558ee73a4759aff23e8515e6f1c2": {
     "model_module": "@jupyter-widgets/controls",
     "model_module_version": "1.5.0",
     "model_name": "DescriptionStyleModel",
     "state": {
      "_model_module": "@jupyter-widgets/controls",
      "_model_module_version": "1.5.0",
      "_model_name": "DescriptionStyleModel",
      "_view_count": null,
      "_view_module": "@jupyter-widgets/base",
      "_view_module_version": "1.2.0",
      "_view_name": "StyleView",
      "description_width": ""
     }
    },
    "521d43138a914a73b9a996b1e8e6a879": {
     "model_module": "@jupyter-widgets/controls",
     "model_module_version": "1.5.0",
     "model_name": "HTMLModel",
     "state": {
      "_dom_classes": [],
      "_model_module": "@jupyter-widgets/controls",
      "_model_module_version": "1.5.0",
      "_model_name": "HTMLModel",
      "_view_count": null,
      "_view_module": "@jupyter-widgets/controls",
      "_view_module_version": "1.5.0",
      "_view_name": "HTMLView",
      "description": "",
      "description_tooltip": null,
      "layout": "IPY_MODEL_5f5e072ae134425fb74fb2bc3d557fad",
      "placeholder": "​",
      "style": "IPY_MODEL_386d61062efe49bbac2106daf745aba7",
      "value": " 420M/420M [00:13&lt;00:00, 34.1MB/s]"
     }
    },
    "5327dbe77cbc4867a2f47f97b6f739e4": {
     "model_module": "@jupyter-widgets/controls",
     "model_module_version": "1.5.0",
     "model_name": "HTMLModel",
     "state": {
      "_dom_classes": [],
      "_model_module": "@jupyter-widgets/controls",
      "_model_module_version": "1.5.0",
      "_model_name": "HTMLModel",
      "_view_count": null,
      "_view_module": "@jupyter-widgets/controls",
      "_view_module_version": "1.5.0",
      "_view_name": "HTMLView",
      "description": "",
      "description_tooltip": null,
      "layout": "IPY_MODEL_dbbf68abd8574c6ca92c15028db8a8ff",
      "placeholder": "​",
      "style": "IPY_MODEL_53fbbfbd01764591893d64043da8a3b8",
      "value": "Downloading: 100%"
     }
    },
    "53fbbfbd01764591893d64043da8a3b8": {
     "model_module": "@jupyter-widgets/controls",
     "model_module_version": "1.5.0",
     "model_name": "DescriptionStyleModel",
     "state": {
      "_model_module": "@jupyter-widgets/controls",
      "_model_module_version": "1.5.0",
      "_model_name": "DescriptionStyleModel",
      "_view_count": null,
      "_view_module": "@jupyter-widgets/base",
      "_view_module_version": "1.2.0",
      "_view_name": "StyleView",
      "description_width": ""
     }
    },
    "582f27da1abb4d6fb388aaa5b52ec321": {
     "model_module": "@jupyter-widgets/base",
     "model_module_version": "1.2.0",
     "model_name": "LayoutModel",
     "state": {
      "_model_module": "@jupyter-widgets/base",
      "_model_module_version": "1.2.0",
      "_model_name": "LayoutModel",
      "_view_count": null,
      "_view_module": "@jupyter-widgets/base",
      "_view_module_version": "1.2.0",
      "_view_name": "LayoutView",
      "align_content": null,
      "align_items": null,
      "align_self": null,
      "border": null,
      "bottom": null,
      "display": null,
      "flex": null,
      "flex_flow": null,
      "grid_area": null,
      "grid_auto_columns": null,
      "grid_auto_flow": null,
      "grid_auto_rows": null,
      "grid_column": null,
      "grid_gap": null,
      "grid_row": null,
      "grid_template_areas": null,
      "grid_template_columns": null,
      "grid_template_rows": null,
      "height": null,
      "justify_content": null,
      "justify_items": null,
      "left": null,
      "margin": null,
      "max_height": null,
      "max_width": null,
      "min_height": null,
      "min_width": null,
      "object_fit": null,
      "object_position": null,
      "order": null,
      "overflow": null,
      "overflow_x": null,
      "overflow_y": null,
      "padding": null,
      "right": null,
      "top": null,
      "visibility": null,
      "width": null
     }
    },
    "5c3ec7edeb1e47e8b24fa8f910b16642": {
     "model_module": "@jupyter-widgets/controls",
     "model_module_version": "1.5.0",
     "model_name": "ProgressStyleModel",
     "state": {
      "_model_module": "@jupyter-widgets/controls",
      "_model_module_version": "1.5.0",
      "_model_name": "ProgressStyleModel",
      "_view_count": null,
      "_view_module": "@jupyter-widgets/base",
      "_view_module_version": "1.2.0",
      "_view_name": "StyleView",
      "bar_color": null,
      "description_width": ""
     }
    },
    "5db03e35853b4639af9fd83420b1af26": {
     "model_module": "@jupyter-widgets/controls",
     "model_module_version": "1.5.0",
     "model_name": "HBoxModel",
     "state": {
      "_dom_classes": [],
      "_model_module": "@jupyter-widgets/controls",
      "_model_module_version": "1.5.0",
      "_model_name": "HBoxModel",
      "_view_count": null,
      "_view_module": "@jupyter-widgets/controls",
      "_view_module_version": "1.5.0",
      "_view_name": "HBoxView",
      "box_style": "",
      "children": [
       "IPY_MODEL_5327dbe77cbc4867a2f47f97b6f739e4",
       "IPY_MODEL_d63f1a69e26c4b1fb97c195da1f80f34",
       "IPY_MODEL_be02aaf3994648d9a524fc914dc2d3dd"
      ],
      "layout": "IPY_MODEL_79c0b6fce0274130bcf7f339897bf244"
     }
    },
    "5f2b3a78f4204a689321749c3ff665cd": {
     "model_module": "@jupyter-widgets/controls",
     "model_module_version": "1.5.0",
     "model_name": "DescriptionStyleModel",
     "state": {
      "_model_module": "@jupyter-widgets/controls",
      "_model_module_version": "1.5.0",
      "_model_name": "DescriptionStyleModel",
      "_view_count": null,
      "_view_module": "@jupyter-widgets/base",
      "_view_module_version": "1.2.0",
      "_view_name": "StyleView",
      "description_width": ""
     }
    },
    "5f5e072ae134425fb74fb2bc3d557fad": {
     "model_module": "@jupyter-widgets/base",
     "model_module_version": "1.2.0",
     "model_name": "LayoutModel",
     "state": {
      "_model_module": "@jupyter-widgets/base",
      "_model_module_version": "1.2.0",
      "_model_name": "LayoutModel",
      "_view_count": null,
      "_view_module": "@jupyter-widgets/base",
      "_view_module_version": "1.2.0",
      "_view_name": "LayoutView",
      "align_content": null,
      "align_items": null,
      "align_self": null,
      "border": null,
      "bottom": null,
      "display": null,
      "flex": null,
      "flex_flow": null,
      "grid_area": null,
      "grid_auto_columns": null,
      "grid_auto_flow": null,
      "grid_auto_rows": null,
      "grid_column": null,
      "grid_gap": null,
      "grid_row": null,
      "grid_template_areas": null,
      "grid_template_columns": null,
      "grid_template_rows": null,
      "height": null,
      "justify_content": null,
      "justify_items": null,
      "left": null,
      "margin": null,
      "max_height": null,
      "max_width": null,
      "min_height": null,
      "min_width": null,
      "object_fit": null,
      "object_position": null,
      "order": null,
      "overflow": null,
      "overflow_x": null,
      "overflow_y": null,
      "padding": null,
      "right": null,
      "top": null,
      "visibility": null,
      "width": null
     }
    },
    "770e42c9556a446ea99d2b92eae171ae": {
     "model_module": "@jupyter-widgets/controls",
     "model_module_version": "1.5.0",
     "model_name": "ProgressStyleModel",
     "state": {
      "_model_module": "@jupyter-widgets/controls",
      "_model_module_version": "1.5.0",
      "_model_name": "ProgressStyleModel",
      "_view_count": null,
      "_view_module": "@jupyter-widgets/base",
      "_view_module_version": "1.2.0",
      "_view_name": "StyleView",
      "bar_color": null,
      "description_width": ""
     }
    },
    "7726fce5d4ee4121b8631133f4d90b04": {
     "model_module": "@jupyter-widgets/controls",
     "model_module_version": "1.5.0",
     "model_name": "FloatProgressModel",
     "state": {
      "_dom_classes": [],
      "_model_module": "@jupyter-widgets/controls",
      "_model_module_version": "1.5.0",
      "_model_name": "FloatProgressModel",
      "_view_count": null,
      "_view_module": "@jupyter-widgets/controls",
      "_view_module_version": "1.5.0",
      "_view_name": "ProgressView",
      "bar_style": "success",
      "description": "",
      "description_tooltip": null,
      "layout": "IPY_MODEL_9d033821121e4321ae03ef325c5eefbc",
      "max": 440473133,
      "min": 0,
      "orientation": "horizontal",
      "style": "IPY_MODEL_a93ec33e515042b1a91255c2875c3353",
      "value": 440473133
     }
    },
    "79c0b6fce0274130bcf7f339897bf244": {
     "model_module": "@jupyter-widgets/base",
     "model_module_version": "1.2.0",
     "model_name": "LayoutModel",
     "state": {
      "_model_module": "@jupyter-widgets/base",
      "_model_module_version": "1.2.0",
      "_model_name": "LayoutModel",
      "_view_count": null,
      "_view_module": "@jupyter-widgets/base",
      "_view_module_version": "1.2.0",
      "_view_name": "LayoutView",
      "align_content": null,
      "align_items": null,
      "align_self": null,
      "border": null,
      "bottom": null,
      "display": null,
      "flex": null,
      "flex_flow": null,
      "grid_area": null,
      "grid_auto_columns": null,
      "grid_auto_flow": null,
      "grid_auto_rows": null,
      "grid_column": null,
      "grid_gap": null,
      "grid_row": null,
      "grid_template_areas": null,
      "grid_template_columns": null,
      "grid_template_rows": null,
      "height": null,
      "justify_content": null,
      "justify_items": null,
      "left": null,
      "margin": null,
      "max_height": null,
      "max_width": null,
      "min_height": null,
      "min_width": null,
      "object_fit": null,
      "object_position": null,
      "order": null,
      "overflow": null,
      "overflow_x": null,
      "overflow_y": null,
      "padding": null,
      "right": null,
      "top": null,
      "visibility": null,
      "width": null
     }
    },
    "9c51934fd2094f42bb9e8d9976d5557e": {
     "model_module": "@jupyter-widgets/base",
     "model_module_version": "1.2.0",
     "model_name": "LayoutModel",
     "state": {
      "_model_module": "@jupyter-widgets/base",
      "_model_module_version": "1.2.0",
      "_model_name": "LayoutModel",
      "_view_count": null,
      "_view_module": "@jupyter-widgets/base",
      "_view_module_version": "1.2.0",
      "_view_name": "LayoutView",
      "align_content": null,
      "align_items": null,
      "align_self": null,
      "border": null,
      "bottom": null,
      "display": null,
      "flex": null,
      "flex_flow": null,
      "grid_area": null,
      "grid_auto_columns": null,
      "grid_auto_flow": null,
      "grid_auto_rows": null,
      "grid_column": null,
      "grid_gap": null,
      "grid_row": null,
      "grid_template_areas": null,
      "grid_template_columns": null,
      "grid_template_rows": null,
      "height": null,
      "justify_content": null,
      "justify_items": null,
      "left": null,
      "margin": null,
      "max_height": null,
      "max_width": null,
      "min_height": null,
      "min_width": null,
      "object_fit": null,
      "object_position": null,
      "order": null,
      "overflow": null,
      "overflow_x": null,
      "overflow_y": null,
      "padding": null,
      "right": null,
      "top": null,
      "visibility": null,
      "width": null
     }
    },
    "9d033821121e4321ae03ef325c5eefbc": {
     "model_module": "@jupyter-widgets/base",
     "model_module_version": "1.2.0",
     "model_name": "LayoutModel",
     "state": {
      "_model_module": "@jupyter-widgets/base",
      "_model_module_version": "1.2.0",
      "_model_name": "LayoutModel",
      "_view_count": null,
      "_view_module": "@jupyter-widgets/base",
      "_view_module_version": "1.2.0",
      "_view_name": "LayoutView",
      "align_content": null,
      "align_items": null,
      "align_self": null,
      "border": null,
      "bottom": null,
      "display": null,
      "flex": null,
      "flex_flow": null,
      "grid_area": null,
      "grid_auto_columns": null,
      "grid_auto_flow": null,
      "grid_auto_rows": null,
      "grid_column": null,
      "grid_gap": null,
      "grid_row": null,
      "grid_template_areas": null,
      "grid_template_columns": null,
      "grid_template_rows": null,
      "height": null,
      "justify_content": null,
      "justify_items": null,
      "left": null,
      "margin": null,
      "max_height": null,
      "max_width": null,
      "min_height": null,
      "min_width": null,
      "object_fit": null,
      "object_position": null,
      "order": null,
      "overflow": null,
      "overflow_x": null,
      "overflow_y": null,
      "padding": null,
      "right": null,
      "top": null,
      "visibility": null,
      "width": null
     }
    },
    "a4e05ea67c7f4b07804cf80adde235f6": {
     "model_module": "@jupyter-widgets/base",
     "model_module_version": "1.2.0",
     "model_name": "LayoutModel",
     "state": {
      "_model_module": "@jupyter-widgets/base",
      "_model_module_version": "1.2.0",
      "_model_name": "LayoutModel",
      "_view_count": null,
      "_view_module": "@jupyter-widgets/base",
      "_view_module_version": "1.2.0",
      "_view_name": "LayoutView",
      "align_content": null,
      "align_items": null,
      "align_self": null,
      "border": null,
      "bottom": null,
      "display": null,
      "flex": null,
      "flex_flow": null,
      "grid_area": null,
      "grid_auto_columns": null,
      "grid_auto_flow": null,
      "grid_auto_rows": null,
      "grid_column": null,
      "grid_gap": null,
      "grid_row": null,
      "grid_template_areas": null,
      "grid_template_columns": null,
      "grid_template_rows": null,
      "height": null,
      "justify_content": null,
      "justify_items": null,
      "left": null,
      "margin": null,
      "max_height": null,
      "max_width": null,
      "min_height": null,
      "min_width": null,
      "object_fit": null,
      "object_position": null,
      "order": null,
      "overflow": null,
      "overflow_x": null,
      "overflow_y": null,
      "padding": null,
      "right": null,
      "top": null,
      "visibility": null,
      "width": null
     }
    },
    "a93ec33e515042b1a91255c2875c3353": {
     "model_module": "@jupyter-widgets/controls",
     "model_module_version": "1.5.0",
     "model_name": "ProgressStyleModel",
     "state": {
      "_model_module": "@jupyter-widgets/controls",
      "_model_module_version": "1.5.0",
      "_model_name": "ProgressStyleModel",
      "_view_count": null,
      "_view_module": "@jupyter-widgets/base",
      "_view_module_version": "1.2.0",
      "_view_name": "StyleView",
      "bar_color": null,
      "description_width": ""
     }
    },
    "a993b3b908e741febc1100d8177f5f3c": {
     "model_module": "@jupyter-widgets/base",
     "model_module_version": "1.2.0",
     "model_name": "LayoutModel",
     "state": {
      "_model_module": "@jupyter-widgets/base",
      "_model_module_version": "1.2.0",
      "_model_name": "LayoutModel",
      "_view_count": null,
      "_view_module": "@jupyter-widgets/base",
      "_view_module_version": "1.2.0",
      "_view_name": "LayoutView",
      "align_content": null,
      "align_items": null,
      "align_self": null,
      "border": null,
      "bottom": null,
      "display": null,
      "flex": null,
      "flex_flow": null,
      "grid_area": null,
      "grid_auto_columns": null,
      "grid_auto_flow": null,
      "grid_auto_rows": null,
      "grid_column": null,
      "grid_gap": null,
      "grid_row": null,
      "grid_template_areas": null,
      "grid_template_columns": null,
      "grid_template_rows": null,
      "height": null,
      "justify_content": null,
      "justify_items": null,
      "left": null,
      "margin": null,
      "max_height": null,
      "max_width": null,
      "min_height": null,
      "min_width": null,
      "object_fit": null,
      "object_position": null,
      "order": null,
      "overflow": null,
      "overflow_x": null,
      "overflow_y": null,
      "padding": null,
      "right": null,
      "top": null,
      "visibility": null,
      "width": null
     }
    },
    "ab872939bd77497b93873f11c9c7e956": {
     "model_module": "@jupyter-widgets/base",
     "model_module_version": "1.2.0",
     "model_name": "LayoutModel",
     "state": {
      "_model_module": "@jupyter-widgets/base",
      "_model_module_version": "1.2.0",
      "_model_name": "LayoutModel",
      "_view_count": null,
      "_view_module": "@jupyter-widgets/base",
      "_view_module_version": "1.2.0",
      "_view_name": "LayoutView",
      "align_content": null,
      "align_items": null,
      "align_self": null,
      "border": null,
      "bottom": null,
      "display": null,
      "flex": null,
      "flex_flow": null,
      "grid_area": null,
      "grid_auto_columns": null,
      "grid_auto_flow": null,
      "grid_auto_rows": null,
      "grid_column": null,
      "grid_gap": null,
      "grid_row": null,
      "grid_template_areas": null,
      "grid_template_columns": null,
      "grid_template_rows": null,
      "height": null,
      "justify_content": null,
      "justify_items": null,
      "left": null,
      "margin": null,
      "max_height": null,
      "max_width": null,
      "min_height": null,
      "min_width": null,
      "object_fit": null,
      "object_position": null,
      "order": null,
      "overflow": null,
      "overflow_x": null,
      "overflow_y": null,
      "padding": null,
      "right": null,
      "top": null,
      "visibility": null,
      "width": null
     }
    },
    "b3f82a24479247409ca4b126a0c88267": {
     "model_module": "@jupyter-widgets/controls",
     "model_module_version": "1.5.0",
     "model_name": "HTMLModel",
     "state": {
      "_dom_classes": [],
      "_model_module": "@jupyter-widgets/controls",
      "_model_module_version": "1.5.0",
      "_model_name": "HTMLModel",
      "_view_count": null,
      "_view_module": "@jupyter-widgets/controls",
      "_view_module_version": "1.5.0",
      "_view_name": "HTMLView",
      "description": "",
      "description_tooltip": null,
      "layout": "IPY_MODEL_4c89434864ba4d778eb4510392bb73d0",
      "placeholder": "​",
      "style": "IPY_MODEL_e4ee0718832543c2a5dcf5146b0548f6",
      "value": "Downloading: 100%"
     }
    },
    "be02aaf3994648d9a524fc914dc2d3dd": {
     "model_module": "@jupyter-widgets/controls",
     "model_module_version": "1.5.0",
     "model_name": "HTMLModel",
     "state": {
      "_dom_classes": [],
      "_model_module": "@jupyter-widgets/controls",
      "_model_module_version": "1.5.0",
      "_model_name": "HTMLModel",
      "_view_count": null,
      "_view_module": "@jupyter-widgets/controls",
      "_view_module_version": "1.5.0",
      "_view_name": "HTMLView",
      "description": "",
      "description_tooltip": null,
      "layout": "IPY_MODEL_0acc7012091d482e84f16f40ed0e47b1",
      "placeholder": "​",
      "style": "IPY_MODEL_4ef3558ee73a4759aff23e8515e6f1c2",
      "value": " 570/570 [00:00&lt;00:00, 11.8kB/s]"
     }
    },
    "c17b90c266954152aba17b32795d6577": {
     "model_module": "@jupyter-widgets/controls",
     "model_module_version": "1.5.0",
     "model_name": "HBoxModel",
     "state": {
      "_dom_classes": [],
      "_model_module": "@jupyter-widgets/controls",
      "_model_module_version": "1.5.0",
      "_model_name": "HBoxModel",
      "_view_count": null,
      "_view_module": "@jupyter-widgets/controls",
      "_view_module_version": "1.5.0",
      "_view_name": "HBoxView",
      "box_style": "",
      "children": [
       "IPY_MODEL_3302132ba08f4435940aefc95ec1251a",
       "IPY_MODEL_0706e974612847a0827629f78239e96e",
       "IPY_MODEL_fa05ced8bf2249758f39bacf3bde1615"
      ],
      "layout": "IPY_MODEL_a4e05ea67c7f4b07804cf80adde235f6"
     }
    },
    "c2103d858b634747b9c9540a7469bcd0": {
     "model_module": "@jupyter-widgets/base",
     "model_module_version": "1.2.0",
     "model_name": "LayoutModel",
     "state": {
      "_model_module": "@jupyter-widgets/base",
      "_model_module_version": "1.2.0",
      "_model_name": "LayoutModel",
      "_view_count": null,
      "_view_module": "@jupyter-widgets/base",
      "_view_module_version": "1.2.0",
      "_view_name": "LayoutView",
      "align_content": null,
      "align_items": null,
      "align_self": null,
      "border": null,
      "bottom": null,
      "display": null,
      "flex": null,
      "flex_flow": null,
      "grid_area": null,
      "grid_auto_columns": null,
      "grid_auto_flow": null,
      "grid_auto_rows": null,
      "grid_column": null,
      "grid_gap": null,
      "grid_row": null,
      "grid_template_areas": null,
      "grid_template_columns": null,
      "grid_template_rows": null,
      "height": null,
      "justify_content": null,
      "justify_items": null,
      "left": null,
      "margin": null,
      "max_height": null,
      "max_width": null,
      "min_height": null,
      "min_width": null,
      "object_fit": null,
      "object_position": null,
      "order": null,
      "overflow": null,
      "overflow_x": null,
      "overflow_y": null,
      "padding": null,
      "right": null,
      "top": null,
      "visibility": null,
      "width": null
     }
    },
    "c33b53c84af4484a8f6f13bf467f5194": {
     "model_module": "@jupyter-widgets/controls",
     "model_module_version": "1.5.0",
     "model_name": "DescriptionStyleModel",
     "state": {
      "_model_module": "@jupyter-widgets/controls",
      "_model_module_version": "1.5.0",
      "_model_name": "DescriptionStyleModel",
      "_view_count": null,
      "_view_module": "@jupyter-widgets/base",
      "_view_module_version": "1.2.0",
      "_view_name": "StyleView",
      "description_width": ""
     }
    },
    "c65d295f474a4281b4b6969e3508e4b4": {
     "model_module": "@jupyter-widgets/base",
     "model_module_version": "1.2.0",
     "model_name": "LayoutModel",
     "state": {
      "_model_module": "@jupyter-widgets/base",
      "_model_module_version": "1.2.0",
      "_model_name": "LayoutModel",
      "_view_count": null,
      "_view_module": "@jupyter-widgets/base",
      "_view_module_version": "1.2.0",
      "_view_name": "LayoutView",
      "align_content": null,
      "align_items": null,
      "align_self": null,
      "border": null,
      "bottom": null,
      "display": null,
      "flex": null,
      "flex_flow": null,
      "grid_area": null,
      "grid_auto_columns": null,
      "grid_auto_flow": null,
      "grid_auto_rows": null,
      "grid_column": null,
      "grid_gap": null,
      "grid_row": null,
      "grid_template_areas": null,
      "grid_template_columns": null,
      "grid_template_rows": null,
      "height": null,
      "justify_content": null,
      "justify_items": null,
      "left": null,
      "margin": null,
      "max_height": null,
      "max_width": null,
      "min_height": null,
      "min_width": null,
      "object_fit": null,
      "object_position": null,
      "order": null,
      "overflow": null,
      "overflow_x": null,
      "overflow_y": null,
      "padding": null,
      "right": null,
      "top": null,
      "visibility": null,
      "width": null
     }
    },
    "cfe3036bca094721b5d09e896b173f53": {
     "model_module": "@jupyter-widgets/base",
     "model_module_version": "1.2.0",
     "model_name": "LayoutModel",
     "state": {
      "_model_module": "@jupyter-widgets/base",
      "_model_module_version": "1.2.0",
      "_model_name": "LayoutModel",
      "_view_count": null,
      "_view_module": "@jupyter-widgets/base",
      "_view_module_version": "1.2.0",
      "_view_name": "LayoutView",
      "align_content": null,
      "align_items": null,
      "align_self": null,
      "border": null,
      "bottom": null,
      "display": null,
      "flex": null,
      "flex_flow": null,
      "grid_area": null,
      "grid_auto_columns": null,
      "grid_auto_flow": null,
      "grid_auto_rows": null,
      "grid_column": null,
      "grid_gap": null,
      "grid_row": null,
      "grid_template_areas": null,
      "grid_template_columns": null,
      "grid_template_rows": null,
      "height": null,
      "justify_content": null,
      "justify_items": null,
      "left": null,
      "margin": null,
      "max_height": null,
      "max_width": null,
      "min_height": null,
      "min_width": null,
      "object_fit": null,
      "object_position": null,
      "order": null,
      "overflow": null,
      "overflow_x": null,
      "overflow_y": null,
      "padding": null,
      "right": null,
      "top": null,
      "visibility": null,
      "width": null
     }
    },
    "d63f1a69e26c4b1fb97c195da1f80f34": {
     "model_module": "@jupyter-widgets/controls",
     "model_module_version": "1.5.0",
     "model_name": "FloatProgressModel",
     "state": {
      "_dom_classes": [],
      "_model_module": "@jupyter-widgets/controls",
      "_model_module_version": "1.5.0",
      "_model_name": "FloatProgressModel",
      "_view_count": null,
      "_view_module": "@jupyter-widgets/controls",
      "_view_module_version": "1.5.0",
      "_view_name": "ProgressView",
      "bar_style": "success",
      "description": "",
      "description_tooltip": null,
      "layout": "IPY_MODEL_582f27da1abb4d6fb388aaa5b52ec321",
      "max": 570,
      "min": 0,
      "orientation": "horizontal",
      "style": "IPY_MODEL_770e42c9556a446ea99d2b92eae171ae",
      "value": 570
     }
    },
    "dbbf68abd8574c6ca92c15028db8a8ff": {
     "model_module": "@jupyter-widgets/base",
     "model_module_version": "1.2.0",
     "model_name": "LayoutModel",
     "state": {
      "_model_module": "@jupyter-widgets/base",
      "_model_module_version": "1.2.0",
      "_model_name": "LayoutModel",
      "_view_count": null,
      "_view_module": "@jupyter-widgets/base",
      "_view_module_version": "1.2.0",
      "_view_name": "LayoutView",
      "align_content": null,
      "align_items": null,
      "align_self": null,
      "border": null,
      "bottom": null,
      "display": null,
      "flex": null,
      "flex_flow": null,
      "grid_area": null,
      "grid_auto_columns": null,
      "grid_auto_flow": null,
      "grid_auto_rows": null,
      "grid_column": null,
      "grid_gap": null,
      "grid_row": null,
      "grid_template_areas": null,
      "grid_template_columns": null,
      "grid_template_rows": null,
      "height": null,
      "justify_content": null,
      "justify_items": null,
      "left": null,
      "margin": null,
      "max_height": null,
      "max_width": null,
      "min_height": null,
      "min_width": null,
      "object_fit": null,
      "object_position": null,
      "order": null,
      "overflow": null,
      "overflow_x": null,
      "overflow_y": null,
      "padding": null,
      "right": null,
      "top": null,
      "visibility": null,
      "width": null
     }
    },
    "e41fd287a3954bd0972c8e1d19d74a00": {
     "model_module": "@jupyter-widgets/controls",
     "model_module_version": "1.5.0",
     "model_name": "HBoxModel",
     "state": {
      "_dom_classes": [],
      "_model_module": "@jupyter-widgets/controls",
      "_model_module_version": "1.5.0",
      "_model_name": "HBoxModel",
      "_view_count": null,
      "_view_module": "@jupyter-widgets/controls",
      "_view_module_version": "1.5.0",
      "_view_name": "HBoxView",
      "box_style": "",
      "children": [
       "IPY_MODEL_4cf320a353e34cdb8ce7cb2464e994f9",
       "IPY_MODEL_7726fce5d4ee4121b8631133f4d90b04",
       "IPY_MODEL_521d43138a914a73b9a996b1e8e6a879"
      ],
      "layout": "IPY_MODEL_c65d295f474a4281b4b6969e3508e4b4"
     }
    },
    "e4ee0718832543c2a5dcf5146b0548f6": {
     "model_module": "@jupyter-widgets/controls",
     "model_module_version": "1.5.0",
     "model_name": "DescriptionStyleModel",
     "state": {
      "_model_module": "@jupyter-widgets/controls",
      "_model_module_version": "1.5.0",
      "_model_name": "DescriptionStyleModel",
      "_view_count": null,
      "_view_module": "@jupyter-widgets/base",
      "_view_module_version": "1.2.0",
      "_view_name": "StyleView",
      "description_width": ""
     }
    },
    "fa05ced8bf2249758f39bacf3bde1615": {
     "model_module": "@jupyter-widgets/controls",
     "model_module_version": "1.5.0",
     "model_name": "HTMLModel",
     "state": {
      "_dom_classes": [],
      "_model_module": "@jupyter-widgets/controls",
      "_model_module_version": "1.5.0",
      "_model_name": "HTMLModel",
      "_view_count": null,
      "_view_module": "@jupyter-widgets/controls",
      "_view_module_version": "1.5.0",
      "_view_name": "HTMLView",
      "description": "",
      "description_tooltip": null,
      "layout": "IPY_MODEL_cfe3036bca094721b5d09e896b173f53",
      "placeholder": "​",
      "style": "IPY_MODEL_10878e40369a4b2e9efddbd66b2871fb",
      "value": " 28.0/28.0 [00:00&lt;00:00, 751B/s]"
     }
    },
    "fe36326827cd4cef8f731722d57d4f4b": {
     "model_module": "@jupyter-widgets/controls",
     "model_module_version": "1.5.0",
     "model_name": "DescriptionStyleModel",
     "state": {
      "_model_module": "@jupyter-widgets/controls",
      "_model_module_version": "1.5.0",
      "_model_name": "DescriptionStyleModel",
      "_view_count": null,
      "_view_module": "@jupyter-widgets/base",
      "_view_module_version": "1.2.0",
      "_view_name": "StyleView",
      "description_width": ""
     }
    }
   }
  }
 },
 "nbformat": 4,
 "nbformat_minor": 1
}
